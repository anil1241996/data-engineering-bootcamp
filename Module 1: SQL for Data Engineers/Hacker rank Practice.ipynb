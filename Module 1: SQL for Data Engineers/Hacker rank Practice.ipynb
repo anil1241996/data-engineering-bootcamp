{
 "cells": [
  {
   "cell_type": "code",
   "execution_count": 0,
   "metadata": {
    "application/vnd.databricks.v1+cell": {
     "cellMetadata": {
      "byteLimit": 2048000,
      "implicitDf": true,
      "rowLimit": 10000
     },
     "inputWidgets": {},
     "nuid": "a268fb4a-202b-4596-b7f5-c56ebdcb0caf",
     "showTitle": false,
     "tableResultSettingsMap": {},
     "title": ""
    }
   },
   "outputs": [],
   "source": [
    "%sql\n",
    "select * from employees_500"
   ]
  },
  {
   "cell_type": "code",
   "execution_count": 0,
   "metadata": {
    "application/vnd.databricks.v1+cell": {
     "cellMetadata": {
      "byteLimit": 2048000,
      "implicitDf": true,
      "rowLimit": 10000
     },
     "inputWidgets": {},
     "nuid": "ecfe7b50-5f82-4299-895a-c3e197b48264",
     "showTitle": false,
     "tableResultSettingsMap": {
      "0": {
       "dataGridStateBlob": "{\"version\":1,\"tableState\":{\"columnPinning\":{\"left\":[\"#row_number#\"],\"right\":[]},\"columnSizing\":{},\"columnVisibility\":{}},\"settings\":{\"columns\":{}},\"syncTimestamp\":1755079622106}",
       "filterBlob": null,
       "queryPlanFiltersBlob": null,
       "tableResultIndex": 0
      }
     },
     "title": ""
    }
   },
   "outputs": [],
   "source": [
    "%sql\n",
    "with cte_name_min as (\n",
    "select\n",
    "name,\n",
    "len(name) as name_len,\n",
    "row_number() over(order by len(name) asc, name asc) as name_row_num\n",
    "from employees_500 limit 1),\n",
    "\n",
    "cte_name_max as (\n",
    "select\n",
    "name,\n",
    "len(name) as name_len,\n",
    "row_number() over(order by len(name) desc, name desc) as name_row_num\n",
    "from employees_500 limit 1),\n",
    "\n",
    "final_result as (select * from cte_name_min\n",
    "union\n",
    "select * from cte_name_max)\n",
    "\n",
    "select name, name_len from final_result\n"
   ]
  },
  {
   "cell_type": "code",
   "execution_count": 0,
   "metadata": {
    "application/vnd.databricks.v1+cell": {
     "cellMetadata": {
      "byteLimit": 2048000,
      "implicitDf": true,
      "rowLimit": 10000
     },
     "inputWidgets": {},
     "nuid": "9da1edb5-4e8c-4a2e-9799-ecd43d284569",
     "showTitle": false,
     "tableResultSettingsMap": {},
     "title": ""
    }
   },
   "outputs": [],
   "source": [
    "%sql\n",
    "with cte_result(\n",
    "select \n",
    "--order_id, quantity, price_each,\n",
    "max(quantity * price_each) as total_price\n",
    "from order_details\n",
    "order by total_price desc)\n",
    "\n",
    " select concat(total_price, ' ', count(total_price)) \n",
    " from cte_result\n",
    " group by total_price"
   ]
  },
  {
   "cell_type": "code",
   "execution_count": 0,
   "metadata": {
    "application/vnd.databricks.v1+cell": {
     "cellMetadata": {
      "byteLimit": 2048000,
      "implicitDf": true,
      "rowLimit": 10000
     },
     "inputWidgets": {},
     "nuid": "44a933b4-8c0d-47db-9001-de90d7aa570e",
     "showTitle": false,
     "tableResultSettingsMap": {},
     "title": ""
    }
   },
   "outputs": [],
   "source": []
  },
  {
   "cell_type": "code",
   "execution_count": 0,
   "metadata": {
    "application/vnd.databricks.v1+cell": {
     "cellMetadata": {},
     "inputWidgets": {},
     "nuid": "77ae0601-8054-4820-93dc-932d754c19f3",
     "showTitle": false,
     "tableResultSettingsMap": {},
     "title": ""
    }
   },
   "outputs": [],
   "source": [
    "%sql\n",
    "DECLARE @start INT = 50;  -- Yahan se starting stars define karo\n",
    "\n",
    ";WITH Numbers AS (\n",
    "    SELECT @start AS n\n",
    "    UNION ALL\n",
    "    SELECT n - 1\n",
    "    FROM Numbers\n",
    "    WHERE n > 1\n",
    ")\n",
    "SELECT REPLICATE('* ', n) AS star_line\n",
    "FROM Numbers\n",
    "OPTION (MAXRECURSION 0);"
   ]
  },
  {
   "cell_type": "code",
   "execution_count": 0,
   "metadata": {
    "application/vnd.databricks.v1+cell": {
     "cellMetadata": {
      "byteLimit": 2048000,
      "implicitDf": true,
      "rowLimit": 10000
     },
     "inputWidgets": {},
     "nuid": "c399cf15-9386-4576-89cd-94b25fa59209",
     "showTitle": false,
     "tableResultSettingsMap": {},
     "title": ""
    }
   },
   "outputs": [],
   "source": [
    "%sql\n",
    "-- Starting number = 50\n",
    "SELECT REPEAT('* ', n) AS star_line\n",
    "FROM (\n",
    "    SELECT explode(sequence(20, 1, -1)) AS n\n",
    ") t;\n"
   ]
  },
  {
   "cell_type": "code",
   "execution_count": 0,
   "metadata": {
    "application/vnd.databricks.v1+cell": {
     "cellMetadata": {
      "byteLimit": 2048000,
      "implicitDf": true,
      "rowLimit": 10000
     },
     "inputWidgets": {},
     "nuid": "d828de8b-6dae-4c9a-b312-ac3a470a119a",
     "showTitle": false,
     "tableResultSettingsMap": {
      "0": {
       "dataGridStateBlob": "{\"version\":1,\"tableState\":{\"columnPinning\":{\"left\":[\"#row_number#\"],\"right\":[]},\"columnSizing\":{\"star\":234},\"columnVisibility\":{}},\"settings\":{\"columns\":{}},\"syncTimestamp\":1755143668840}",
       "filterBlob": null,
       "queryPlanFiltersBlob": null,
       "tableResultIndex": 0
      }
     },
     "title": ""
    }
   },
   "outputs": [],
   "source": [
    "%sql\n",
    "select repeat('* ', n) as star\n",
    "from\n",
    "(\n",
    "select explode(sequence(20, 1, -1)) as n\n",
    ")st;"
   ]
  },
  {
   "cell_type": "markdown",
   "metadata": {
    "application/vnd.databricks.v1+cell": {
     "cellMetadata": {
      "byteLimit": 2048000,
      "implicitDf": true,
      "rowLimit": 10000
     },
     "inputWidgets": {},
     "nuid": "7784e03b-c28f-471b-819d-fadc78f950cc",
     "showTitle": false,
     "tableResultSettingsMap": {},
     "title": ""
    }
   },
   "source": [
    "DECLARE @start INT = 2, @end INT = 1000;\n",
    "\n",
    ";WITH NumList AS (\n",
    "    SELECT @start AS n\n",
    "    UNION ALL\n",
    "    SELECT n + 1\n",
    "    FROM NumList\n",
    "    WHERE n + 1 <= @end\n",
    ")\n",
    "SELECT STRING_AGG(CAST(n AS VARCHAR), '&') AS PrimeList\n",
    "FROM NumList a\n",
    "WHERE NOT EXISTS (\n",
    "    SELECT 1 \n",
    "    FROM NumList b\n",
    "    WHERE b.n > 1 AND b.n < a.n AND a.n % b.n = 0\n",
    ")\n",
    "OPTION (MAXRECURSION 0);"
   ]
  },
  {
   "cell_type": "code",
   "execution_count": 0,
   "metadata": {
    "application/vnd.databricks.v1+cell": {
     "cellMetadata": {
      "byteLimit": 2048000,
      "implicitDf": true,
      "rowLimit": 10000
     },
     "inputWidgets": {},
     "nuid": "bd763681-fcc5-4e87-b7fc-3a2da893d8cc",
     "showTitle": false,
     "tableResultSettingsMap": {},
     "title": ""
    }
   },
   "outputs": [],
   "source": [
    "%sql\n",
    "select * from employees order by salary desc"
   ]
  },
  {
   "cell_type": "code",
   "execution_count": 0,
   "metadata": {
    "application/vnd.databricks.v1+cell": {
     "cellMetadata": {
      "byteLimit": 2048000,
      "rowLimit": 10000
     },
     "inputWidgets": {},
     "nuid": "402b5953-fe19-4825-9744-cdbcbcbc29fa",
     "showTitle": false,
     "tableResultSettingsMap": {},
     "title": ""
    }
   },
   "outputs": [],
   "source": [
    "%sql\n",
    "select max(salary) from employees where salary < (select max(salary) from employees)"
   ]
  },
  {
   "cell_type": "code",
   "execution_count": 0,
   "metadata": {
    "application/vnd.databricks.v1+cell": {
     "cellMetadata": {
      "byteLimit": 2048000,
      "rowLimit": 10000
     },
     "inputWidgets": {},
     "nuid": "3ab3eaba-62fd-40ff-9c92-49cdb9a4cddb",
     "showTitle": false,
     "tableResultSettingsMap": {},
     "title": ""
    }
   },
   "outputs": [],
   "source": [
    "%sql\n",
    "select(cast(100000000 as decimal(14,4)))"
   ]
  }
 ],
 "metadata": {
  "application/vnd.databricks.v1+notebook": {
   "computePreferences": {
    "hardware": {
     "accelerator": null,
     "gpuPoolId": null,
     "memory": null
    }
   },
   "dashboards": [],
   "environmentMetadata": {
    "base_environment": "",
    "environment_version": "2"
   },
   "inputWidgetPreferences": null,
   "language": "python",
   "notebookMetadata": {
    "mostRecentlyExecutedCommandWithImplicitDF": {
     "commandId": -1,
     "dataframes": [
      "_sqldf"
     ]
    },
    "pythonIndentUnit": 4
   },
   "notebookName": "Hacker rank Practice",
   "widgets": {}
  },
  "language_info": {
   "name": "python"
  }
 },
 "nbformat": 4,
 "nbformat_minor": 0
}
