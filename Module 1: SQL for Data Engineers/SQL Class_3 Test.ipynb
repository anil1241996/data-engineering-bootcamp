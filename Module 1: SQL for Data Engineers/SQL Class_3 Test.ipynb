{
 "cells": [
  {
   "cell_type": "code",
   "execution_count": 0,
   "metadata": {
    "application/vnd.databricks.v1+cell": {
     "cellMetadata": {
      "byteLimit": 2048000,
      "rowLimit": 10000
     },
     "inputWidgets": {},
     "nuid": "6f9d974a-afca-48ca-a503-9d2c5083a284",
     "showTitle": false,
     "tableResultSettingsMap": {},
     "title": ""
    }
   },
   "outputs": [],
   "source": [
    "# using customers file, create df then save it in sql table\n",
    "  \n",
    "df = spark.read.option('header', 'true')\\\n",
    "                .option('multiline', 'true')\\\n",
    "                .option('inferSchema', 'true')\\\n",
    "                .csv('/Volumes/workspace/default/dbfs/Class_3_customers.csv')\n",
    "                        \n",
    "\n",
    "df.write.saveAsTable('Class_3_customers')"
   ]
  },
  {
   "cell_type": "code",
   "execution_count": 0,
   "metadata": {
    "application/vnd.databricks.v1+cell": {
     "cellMetadata": {
      "byteLimit": 2048000,
      "rowLimit": 10000
     },
     "inputWidgets": {},
     "nuid": "eb9feaec-cd87-416f-9210-612ed785c855",
     "showTitle": false,
     "tableResultSettingsMap": {},
     "title": ""
    }
   },
   "outputs": [],
   "source": [
    "# using customers file, create df then save it in sql table\n",
    "  \n",
    "df = spark.read.option('header', 'true')\\\n",
    "                .option('multiline', 'true')\\\n",
    "                .option('inferSchema', 'true')\\\n",
    "                .csv('/Volumes/workspace/default/dbfs/Class_3_sales_data.csv')\n",
    "                        \n",
    "\n",
    "df.write.saveAsTable('Class_3_sales_data')"
   ]
  },
  {
   "cell_type": "code",
   "execution_count": 0,
   "metadata": {
    "application/vnd.databricks.v1+cell": {
     "cellMetadata": {
      "byteLimit": 2048000,
      "implicitDf": true,
      "rowLimit": 10000
     },
     "inputWidgets": {},
     "nuid": "3f3dc862-9ddc-4426-a393-b59b3d4509d7",
     "showTitle": false,
     "tableResultSettingsMap": {},
     "title": ""
    }
   },
   "outputs": [],
   "source": [
    "%sql\n",
    "-- display all rows of Class_3_customers table\n",
    "\n",
    "select * from class_3_customers"
   ]
  },
  {
   "cell_type": "code",
   "execution_count": 0,
   "metadata": {
    "application/vnd.databricks.v1+cell": {
     "cellMetadata": {
      "byteLimit": 2048000,
      "implicitDf": true,
      "rowLimit": 10000
     },
     "inputWidgets": {},
     "nuid": "d797cd21-229d-4c8b-86a3-1e9f959bf2f4",
     "showTitle": false,
     "tableResultSettingsMap": {},
     "title": ""
    }
   },
   "outputs": [],
   "source": [
    "%sql\n",
    "-- display all rows of class_3_sales_data table\n",
    "\n",
    "select * from class_3_sales_data"
   ]
  },
  {
   "cell_type": "code",
   "execution_count": 0,
   "metadata": {
    "application/vnd.databricks.v1+cell": {
     "cellMetadata": {
      "byteLimit": 2048000,
      "implicitDf": true,
      "rowLimit": 10000
     },
     "inputWidgets": {},
     "nuid": "4ae4c902-37c4-429f-863e-08dd40912747",
     "showTitle": false,
     "tableResultSettingsMap": {},
     "title": ""
    }
   },
   "outputs": [],
   "source": [
    "%sql\n",
    "-- Write a join query to show customer name, product and region\n",
    "\n",
    "with basic_info as (\n",
    "select c.name, s.product, s.region\n",
    "from class_3_customers c\n",
    "inner join class_3_sales_data s\n",
    "on c.customer_id = s.customer_id)\n",
    "\n",
    "select * from basic_info"
   ]
  },
  {
   "cell_type": "code",
   "execution_count": 0,
   "metadata": {
    "application/vnd.databricks.v1+cell": {
     "cellMetadata": {
      "byteLimit": 2048000,
      "implicitDf": true,
      "rowLimit": 10000
     },
     "inputWidgets": {},
     "nuid": "ad5afb09-d37f-4ba1-8881-92e7d479d4e0",
     "showTitle": false,
     "tableResultSettingsMap": {},
     "title": ""
    }
   },
   "outputs": [],
   "source": [
    "%sql\n",
    "-- Count how many products each customers has purchased\n",
    "\n",
    "with product_by_customer as (\n",
    "select customer_id, count(product) total_product \n",
    "from sales_data\n",
    "group by customer_id)\n",
    "\n",
    "select * from product_by_customer order by total_product desc"
   ]
  },
  {
   "cell_type": "code",
   "execution_count": 0,
   "metadata": {
    "application/vnd.databricks.v1+cell": {
     "cellMetadata": {
      "byteLimit": 2048000,
      "implicitDf": true,
      "rowLimit": 10000
     },
     "inputWidgets": {},
     "nuid": "388484f3-78ee-4aa1-9535-642aec0da4f9",
     "showTitle": false,
     "tableResultSettingsMap": {},
     "title": ""
    }
   },
   "outputs": [],
   "source": [
    "%sql\n",
    "-- Get all female customers who made a purchase greater than 500\n",
    "\n",
    "with female_purchase as (\n",
    "  select c.customer_id, c.name, c.gender, sum(s.amount) as purchase\n",
    "  from  class_3_customers c\n",
    "  inner join class_3_sales_data s\n",
    "    on c.customer_id = s.customer_id\n",
    "  group by c.customer_id, c.name, c.gender\n",
    "  having c.gender = 'F')\n",
    "\n",
    "  select * from female_purchase where purchase > 500"
   ]
  },
  {
   "cell_type": "code",
   "execution_count": 0,
   "metadata": {
    "application/vnd.databricks.v1+cell": {
     "cellMetadata": {
      "byteLimit": 2048000,
      "implicitDf": true,
      "rowLimit": 10000
     },
     "inputWidgets": {},
     "nuid": "0371695a-8fe2-4f4b-8ab9-97f93608a689",
     "showTitle": false,
     "tableResultSettingsMap": {},
     "title": ""
    }
   },
   "outputs": [],
   "source": [
    "%sql\n",
    "-- Identity cities with the highest total purchase amount\n",
    "\n",
    "  select c.city, s.amount\n",
    "  from class_3_customers c\n",
    "  inner join class_3_sales_data s\n",
    "    on c.customer_id = s.customer_id\n",
    "  order by amount desc\n",
    "  limit 1\n"
   ]
  }
 ],
 "metadata": {
  "application/vnd.databricks.v1+notebook": {
   "computePreferences": {
    "hardware": {
     "accelerator": null,
     "gpuPoolId": null,
     "memory": null
    }
   },
   "dashboards": [],
   "environmentMetadata": {
    "base_environment": "",
    "environment_version": "2"
   },
   "inputWidgetPreferences": null,
   "language": "python",
   "notebookMetadata": {
    "mostRecentlyExecutedCommandWithImplicitDF": {
     "commandId": 4897381169055766,
     "dataframes": [
      "_sqldf"
     ]
    },
    "pythonIndentUnit": 4
   },
   "notebookName": "SQL Class_3 Test",
   "widgets": {}
  },
  "language_info": {
   "name": "python"
  }
 },
 "nbformat": 4,
 "nbformat_minor": 0
}
