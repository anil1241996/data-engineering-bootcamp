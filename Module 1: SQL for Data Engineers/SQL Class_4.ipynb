{
 "cells": [
  {
   "cell_type": "code",
   "execution_count": 0,
   "metadata": {
    "application/vnd.databricks.v1+cell": {
     "cellMetadata": {
      "byteLimit": 2048000,
      "implicitDf": true,
      "rowLimit": 10000
     },
     "inputWidgets": {},
     "nuid": "05c45065-07e9-4c4f-b3e0-0d70bf065e3d",
     "showTitle": false,
     "tableResultSettingsMap": {},
     "title": ""
    }
   },
   "outputs": [],
   "source": [
    "%sql\n",
    "-- Gives unique row number to based on order_id\n",
    "\n",
    "select row_number() over(order by order_id asc) s_no, order_id, order_date, total_amount from orders"
   ]
  },
  {
   "cell_type": "code",
   "execution_count": 0,
   "metadata": {
    "application/vnd.databricks.v1+cell": {
     "cellMetadata": {
      "byteLimit": 2048000,
      "implicitDf": true,
      "rowLimit": 10000
     },
     "inputWidgets": {},
     "nuid": "8d706ca6-1665-48f5-8b9c-218ec1591520",
     "showTitle": false,
     "tableResultSettingsMap": {},
     "title": ""
    }
   },
   "outputs": [],
   "source": [
    "%sql\n",
    "-- Gives unique row number to based on order date\n",
    "\n",
    "select \n",
    "row_number() over(partition by order_date order by order_date desc) row_num, \n",
    "order_id, \n",
    "order_date, \n",
    "total_amount \n",
    "from orders"
   ]
  },
  {
   "cell_type": "code",
   "execution_count": 0,
   "metadata": {
    "application/vnd.databricks.v1+cell": {
     "cellMetadata": {
      "byteLimit": 2048000,
      "implicitDf": true,
      "rowLimit": 10000
     },
     "inputWidgets": {},
     "nuid": "bb66ead2-ee40-42b0-aa44-50792be3e47a",
     "showTitle": false,
     "tableResultSettingsMap": {},
     "title": ""
    }
   },
   "outputs": [],
   "source": [
    "%sql\n",
    "-- real life use case: show first product bought by each customer\n",
    "\n",
    "with cte_product_rank as (\n",
    "    select \n",
    "        c.customer_id,\n",
    "        c.first_name, \n",
    "        c.last_name,\n",
    "        od.order_id, \n",
    "        od.product_name, \n",
    "        od.order_date, \n",
    "        row_number() over(partition by c.customer_id order by od.order_date desc) as product_rank\n",
    "    from customers c \n",
    "        inner join order_details od\n",
    "            on c.customer_id = od.customer_id)\n",
    "\n",
    "select * from cte_product_rank where product_rank = 1"
   ]
  },
  {
   "cell_type": "code",
   "execution_count": 0,
   "metadata": {
    "application/vnd.databricks.v1+cell": {
     "cellMetadata": {
      "byteLimit": 2048000,
      "implicitDf": true,
      "rowLimit": 10000
     },
     "inputWidgets": {},
     "nuid": "4940d6e9-4afd-4f6a-8a96-432832025060",
     "showTitle": false,
     "tableResultSettingsMap": {},
     "title": ""
    }
   },
   "outputs": [],
   "source": [
    "%sql\n",
    "-- real life use case: show first product bought by each customer\n",
    "\n",
    "with cte_product_rank as (\n",
    "    select \n",
    "        c.customer_id,\n",
    "        c.first_name, \n",
    "        c.last_name,\n",
    "        od.order_id, \n",
    "        od.product_name, \n",
    "        od.order_date, \n",
    "        row_number() over(partition by c.customer_id order by od.order_date desc) as product_rank\n",
    "    from customers c \n",
    "        inner join order_details od\n",
    "            on c.customer_id = od.customer_id\n",
    "        inner join orders o\n",
    "            on od.order_id = o.order_id\n",
    "  )\n",
    "\n",
    "select * from cte_product_rank where product_rank = 1"
   ]
  },
  {
   "cell_type": "code",
   "execution_count": 0,
   "metadata": {
    "application/vnd.databricks.v1+cell": {
     "cellMetadata": {
      "byteLimit": 2048000,
      "implicitDf": true,
      "rowLimit": 10000
     },
     "inputWidgets": {},
     "nuid": "76b830a0-4e57-4ad8-9ce5-6bdf116037bc",
     "showTitle": false,
     "tableResultSettingsMap": {},
     "title": ""
    }
   },
   "outputs": [],
   "source": [
    "%sql\n",
    "-- based on quantity gives rank\n",
    "\n",
    "select \n",
    "product_name,\n",
    "quantity,\n",
    "rank() over(order by quantity desc) as ranking\n",
    "from order_details"
   ]
  },
  {
   "cell_type": "code",
   "execution_count": 0,
   "metadata": {
    "application/vnd.databricks.v1+cell": {
     "cellMetadata": {
      "byteLimit": 2048000,
      "implicitDf": true,
      "rowLimit": 10000
     },
     "inputWidgets": {},
     "nuid": "9d82da8a-1086-4ecf-aa73-7d7c1c51fde8",
     "showTitle": false,
     "tableResultSettingsMap": {},
     "title": ""
    }
   },
   "outputs": [],
   "source": [
    "%sql\n",
    "-- real life use case: assign bonus based on best selling producs in each order\n",
    "\n",
    "select \n",
    "order_id,\n",
    "product_name,\n",
    "quantity,\n",
    "rank() over(partition by order_id order by quantity desc) as ranking\n",
    "from order_details"
   ]
  },
  {
   "cell_type": "code",
   "execution_count": 0,
   "metadata": {
    "application/vnd.databricks.v1+cell": {
     "cellMetadata": {
      "byteLimit": 2048000,
      "implicitDf": true,
      "rowLimit": 10000
     },
     "inputWidgets": {},
     "nuid": "a0dde044-3c63-42c2-a298-b60a784ca153",
     "showTitle": false,
     "tableResultSettingsMap": {},
     "title": ""
    }
   },
   "outputs": [],
   "source": [
    "%sql\n",
    "-- comparing dense rank and rank\n",
    "\n",
    "select \n",
    "product_name,\n",
    "quantity,\n",
    "dense_rank() over(order by quantity desc) as dense_rank,\n",
    "rank() over(order by quantity desc) as rank\n",
    "from order_details"
   ]
  },
  {
   "cell_type": "code",
   "execution_count": 0,
   "metadata": {
    "application/vnd.databricks.v1+cell": {
     "cellMetadata": {
      "byteLimit": 2048000,
      "implicitDf": true,
      "rowLimit": 10000
     },
     "inputWidgets": {},
     "nuid": "d581b20c-2543-4d17-aca6-9d9f58a358f4",
     "showTitle": false,
     "tableResultSettingsMap": {},
     "title": ""
    }
   },
   "outputs": [],
   "source": [
    "%sql\n",
    "-- real life use case: label product popularity tier in clean rank buckets\n",
    "\n",
    "select\n",
    "product_name,\n",
    "sum(quantity) total_quantity,\n",
    "dense_rank() over(order by sum(quantity) desc) as dense_rank\n",
    "from order_details\n",
    "group by product_name"
   ]
  },
  {
   "cell_type": "code",
   "execution_count": 0,
   "metadata": {
    "application/vnd.databricks.v1+cell": {
     "cellMetadata": {
      "byteLimit": 2048000,
      "implicitDf": true,
      "rowLimit": 10000
     },
     "inputWidgets": {},
     "nuid": "56faf343-621b-4b8c-91ea-55698f321c7d",
     "showTitle": false,
     "tableResultSettingsMap": {},
     "title": ""
    }
   },
   "outputs": [],
   "source": [
    "%sql\n",
    "-- lag(): compare with previous date\n",
    "\n",
    "select\n",
    "order_id,\n",
    "order_date,\n",
    "lag(order_date) over(order by order_date) as previous_date\n",
    "from orders\n"
   ]
  },
  {
   "cell_type": "code",
   "execution_count": 0,
   "metadata": {
    "application/vnd.databricks.v1+cell": {
     "cellMetadata": {
      "byteLimit": 2048000,
      "implicitDf": true,
      "rowLimit": 10000
     },
     "inputWidgets": {},
     "nuid": "27962a7f-b7de-4187-8634-94973c761ae3",
     "showTitle": false,
     "tableResultSettingsMap": {},
     "title": ""
    }
   },
   "outputs": [],
   "source": [
    "%sql\n",
    "-- lead(): compare with next date\n",
    "\n",
    "select\n",
    "order_id,\n",
    "order_date,\n",
    "lead(order_date) over(order by order_date) as next_date\n",
    "from orders\n"
   ]
  },
  {
   "cell_type": "code",
   "execution_count": 0,
   "metadata": {
    "application/vnd.databricks.v1+cell": {
     "cellMetadata": {
      "byteLimit": 2048000,
      "implicitDf": true,
      "rowLimit": 10000
     },
     "inputWidgets": {},
     "nuid": "e11352c3-8932-41d3-88bd-a469ea1ba381",
     "showTitle": false,
     "tableResultSettingsMap": {},
     "title": ""
    }
   },
   "outputs": [],
   "source": [
    "%sql\n",
    "-- real life use case: analyse customers order trends like they bought again\n",
    "\n",
    "with cte_previous_quantity_check as (\n",
    "select\n",
    "c.first_name, o.order_id, od.product_name, o.order_date, od.quantity,\n",
    "lag(od.quantity) over(partition by c.customer_id order by o.order_date) as previous_quantity\n",
    "from customers c\n",
    "inner join orders o\n",
    "  on c.customer_id = o.customer_id\n",
    "inner join order_details od\n",
    "  on o.order_id = od.order_id)\n",
    "\n",
    "select * from cte_previous_quantity_check where previous_quantity > 0\n"
   ]
  },
  {
   "cell_type": "code",
   "execution_count": 0,
   "metadata": {
    "application/vnd.databricks.v1+cell": {
     "cellMetadata": {
      "byteLimit": 2048000,
      "implicitDf": true,
      "rowLimit": 10000
     },
     "inputWidgets": {},
     "nuid": "e75c9fce-8cfc-4caa-adb6-70975ddda2c2",
     "showTitle": false,
     "tableResultSettingsMap": {},
     "title": ""
    }
   },
   "outputs": [],
   "source": [
    "%sql\n",
    "-- real life use case: analyse customers order trends like they didn't bought\n",
    "\n",
    "with cte_previous_quantity_check as (\n",
    "select\n",
    "c.first_name, o.order_id, od.product_name, o.order_date, od.quantity,\n",
    "lag(od.quantity) over(partition by c.customer_id order by o.order_date) as previous_quantity\n",
    "from customers c\n",
    "inner join orders o\n",
    "  on c.customer_id = o.customer_id\n",
    "inner join order_details od\n",
    "  on o.order_id = od.order_id)\n",
    "\n",
    "select * from cte_previous_quantity_check where previous_quantity is null\n"
   ]
  },
  {
   "cell_type": "code",
   "execution_count": 0,
   "metadata": {
    "application/vnd.databricks.v1+cell": {
     "cellMetadata": {
      "byteLimit": 2048000,
      "implicitDf": true,
      "rowLimit": 10000
     },
     "inputWidgets": {},
     "nuid": "db5fc3a0-28a3-4c0e-8933-6e9c6aa62113",
     "showTitle": false,
     "tableResultSettingsMap": {},
     "title": ""
    }
   },
   "outputs": [],
   "source": [
    "%sql\n",
    "-- real life use case: predict what product customer might buy next\n",
    "\n",
    "with cte_buy_next as(\n",
    "  select\n",
    "  c.first_name,\n",
    "  o.order_id,\n",
    "  od.product_name,\n",
    "  lead(od.product_name) over(partition by c.customer_id order by o.order_date) as next_product\n",
    "  from customers c\n",
    "  inner join orders o\n",
    "    on c.customer_id = o.customer_id\n",
    "  inner join order_details od\n",
    "    on o.order_id = od.order_id\n",
    ")\n",
    "\n",
    "select * from cte_buy_next"
   ]
  },
  {
   "cell_type": "code",
   "execution_count": 0,
   "metadata": {
    "application/vnd.databricks.v1+cell": {
     "cellMetadata": {
      "byteLimit": 2048000,
      "implicitDf": true,
      "rowLimit": 10000
     },
     "inputWidgets": {},
     "nuid": "e3d037ff-67c4-4499-a56a-fdfffea423d3",
     "showTitle": false,
     "tableResultSettingsMap": {},
     "title": ""
    }
   },
   "outputs": [],
   "source": [
    "%sql\n",
    "-- real life use case: predict what product customer might didn't buy next product\n",
    "\n",
    "with cte_buy_next as(\n",
    "  select\n",
    "  c.first_name,\n",
    "  o.order_id,\n",
    "  od.product_name,\n",
    "  lead(od.product_name) over(partition by c.customer_id order by o.order_date) as next_product\n",
    "  from customers c\n",
    "  inner join orders o\n",
    "    on c.customer_id = o.customer_id\n",
    "  inner join order_details od\n",
    "    on o.order_id = od.order_id\n",
    ")\n",
    "\n",
    "select * from cte_buy_next where next_product is null"
   ]
  },
  {
   "cell_type": "code",
   "execution_count": 0,
   "metadata": {
    "application/vnd.databricks.v1+cell": {
     "cellMetadata": {
      "byteLimit": 2048000,
      "implicitDf": true,
      "rowLimit": 10000
     },
     "inputWidgets": {},
     "nuid": "b3b741e0-3bf9-4cb5-92fc-e61511344c61",
     "showTitle": false,
     "tableResultSettingsMap": {},
     "title": ""
    }
   },
   "outputs": [],
   "source": [
    "%sql\n",
    "-- SUM() : Running Total OR Cummulative Sum\n",
    "\n",
    "select \n",
    "order_id, product_id, product_name, quantity,\n",
    "sum(quantity) over(order by order_id) as commulative_sum\n",
    "from order_details"
   ]
  },
  {
   "cell_type": "code",
   "execution_count": 0,
   "metadata": {
    "application/vnd.databricks.v1+cell": {
     "cellMetadata": {
      "byteLimit": 2048000,
      "implicitDf": true,
      "rowLimit": 10000
     },
     "inputWidgets": {},
     "nuid": "af62d342-bb32-4df6-b57c-750e222f06ab",
     "showTitle": false,
     "tableResultSettingsMap": {},
     "title": ""
    }
   },
   "outputs": [],
   "source": [
    "%sql\n",
    "-- SUM() : Running Total OR Cummulative Sum of salary based on emp_id\n",
    "\n",
    "with cte_salary as (\n",
    "  select\n",
    "  emp_id, first_name, department, job_title, salary,\n",
    "  sum(salary) over(order by emp_id) salary_running_total\n",
    "  from employees\n",
    ")\n",
    "\n",
    "select * from cte_salary"
   ]
  },
  {
   "cell_type": "code",
   "execution_count": 0,
   "metadata": {
    "application/vnd.databricks.v1+cell": {
     "cellMetadata": {
      "byteLimit": 2048000,
      "implicitDf": true,
      "rowLimit": 10000
     },
     "inputWidgets": {},
     "nuid": "a571decc-15df-4c88-bba8-8900beeaa344",
     "showTitle": false,
     "tableResultSettingsMap": {},
     "title": ""
    }
   },
   "outputs": [],
   "source": [
    "%sql\n",
    "-- AVG() : Running AVG of salary based on emp_id\n",
    "\n",
    "with cte_salary_avg as (\n",
    "  select\n",
    "  emp_id, first_name, department, job_title, salary,\n",
    "  round(avg(salary) over(order by emp_id), 2) as salary_running_avg\n",
    "  from employees\n",
    ")\n",
    "\n",
    "select * from cte_salary_avg"
   ]
  }
 ],
 "metadata": {
  "application/vnd.databricks.v1+notebook": {
   "computePreferences": {
    "hardware": {
     "accelerator": null,
     "gpuPoolId": null,
     "memory": null
    }
   },
   "dashboards": [],
   "environmentMetadata": {
    "base_environment": "",
    "environment_version": "2"
   },
   "inputWidgetPreferences": null,
   "language": "python",
   "notebookMetadata": {
    "mostRecentlyExecutedCommandWithImplicitDF": {
     "commandId": 4771399823512120,
     "dataframes": [
      "_sqldf"
     ]
    },
    "pythonIndentUnit": 4
   },
   "notebookName": "SQL Class_4",
   "widgets": {}
  },
  "language_info": {
   "name": "python"
  }
 },
 "nbformat": 4,
 "nbformat_minor": 0
}
