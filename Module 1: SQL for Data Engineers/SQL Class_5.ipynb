{
 "cells": [
  {
   "cell_type": "markdown",
   "metadata": {
    "application/vnd.databricks.v1+cell": {
     "cellMetadata": {},
     "inputWidgets": {},
     "nuid": "21403ab4-a57a-4556-94c2-a9776edbf3e7",
     "showTitle": false,
     "tableResultSettingsMap": {},
     "title": ""
    }
   },
   "source": [
    "_**QUERY _OPTIMIZATION_**_"
   ]
  },
  {
   "cell_type": "code",
   "execution_count": 0,
   "metadata": {
    "application/vnd.databricks.v1+cell": {
     "cellMetadata": {
      "byteLimit": 2048000,
      "implicitDf": true,
      "rowLimit": 10000
     },
     "inputWidgets": {},
     "nuid": "6982e5c6-30e2-4063-b238-bb905ac7ca3f",
     "showTitle": false,
     "tableResultSettingsMap": {},
     "title": ""
    }
   },
   "outputs": [],
   "source": [
    "%sql\n",
    "-- Badly optimize query because taking all columns from all tables\n",
    "\n",
    "select * from customers c\n",
    "inner join orders o\n",
    "  on c.customer_id = o.customer_id\n",
    "inner join order_details od\n",
    "  on o.order_id = od.order_id"
   ]
  },
  {
   "cell_type": "code",
   "execution_count": 0,
   "metadata": {
    "application/vnd.databricks.v1+cell": {
     "cellMetadata": {
      "byteLimit": 2048000,
      "implicitDf": true,
      "rowLimit": 10000
     },
     "inputWidgets": {},
     "nuid": "c3dc8ed5-52e8-4c26-a7e3-979eb02a26ad",
     "showTitle": false,
     "tableResultSettingsMap": {},
     "title": ""
    }
   },
   "outputs": [],
   "source": [
    "%sql\n",
    "-- Optimize query because taking required columns from all tables\n",
    "\n",
    "select \n",
    "c.first_name, o.order_id, od.product_name, od. price_each \n",
    "from customers c\n",
    "inner join orders o\n",
    "  on c.customer_id = o.customer_id\n",
    "inner join order_details od\n",
    "  on o.order_id = od.order_id"
   ]
  },
  {
   "cell_type": "markdown",
   "metadata": {
    "application/vnd.databricks.v1+cell": {
     "cellMetadata": {},
     "inputWidgets": {},
     "nuid": "e8ba7581-625a-4940-bc47-bfd478d88eb9",
     "showTitle": false,
     "tableResultSettingsMap": {},
     "title": ""
    }
   },
   "source": [
    "_**Filtering after Join VS Filtering before Join**_"
   ]
  },
  {
   "cell_type": "code",
   "execution_count": 0,
   "metadata": {
    "application/vnd.databricks.v1+cell": {
     "cellMetadata": {
      "byteLimit": 2048000,
      "implicitDf": true,
      "rowLimit": 10000
     },
     "inputWidgets": {},
     "nuid": "861d45ed-4357-46f7-84bf-69ab179cd544",
     "showTitle": false,
     "tableResultSettingsMap": {},
     "title": ""
    }
   },
   "outputs": [],
   "source": [
    "%sql\n",
    "-- Unoptimize\n",
    "\n",
    "select\n",
    "c.first_name, o.order_id, od.product_name, od.price_each, od.quantity\n",
    "from customers c\n",
    "inner join orders o\n",
    "  on c.customer_id = o.customer_id\n",
    "inner join order_details od\n",
    "  on o.order_id = od.order_id\n",
    "order by od.price_each desc;\n"
   ]
  },
  {
   "cell_type": "code",
   "execution_count": 0,
   "metadata": {
    "application/vnd.databricks.v1+cell": {
     "cellMetadata": {
      "byteLimit": 2048000,
      "implicitDf": true,
      "rowLimit": 10000
     },
     "inputWidgets": {},
     "nuid": "b00e3329-fc08-4e0f-a8a5-74b0e6a9c9c9",
     "showTitle": false,
     "tableResultSettingsMap": {},
     "title": ""
    }
   },
   "outputs": [],
   "source": [
    "%sql\n",
    "-- Optimize\n",
    "\n",
    "select\n",
    "c.first_name, o.order_id, od.product_name, od.price_each, od.quantity\n",
    "from customers c\n",
    "inner join orders o\n",
    "  on c.customer_id = o.customer_id\n",
    "inner join order_details od\n",
    "  on o.order_id = od.order_id\n",
    "where od.price_each > 1000\n",
    "order by od.price_each desc;\n"
   ]
  },
  {
   "cell_type": "code",
   "execution_count": 0,
   "metadata": {
    "application/vnd.databricks.v1+cell": {
     "cellMetadata": {
      "byteLimit": 2048000,
      "implicitDf": true,
      "rowLimit": 10000
     },
     "inputWidgets": {},
     "nuid": "215a9070-503b-4f3d-9c51-dbc9bb1bd2b4",
     "showTitle": false,
     "tableResultSettingsMap": {},
     "title": ""
    }
   },
   "outputs": [],
   "source": [
    "%sql\n",
    "-- Unoptimize\n",
    "\n",
    "select\n",
    "c.customer_id, sum(od.price_each * od.quantity) as total_spend\n",
    "from customers c\n",
    "inner join orders o\n",
    "  on c.customer_id = o.customer_id\n",
    "inner join order_details od\n",
    "  on o.order_id = od.order_id\n",
    "group by c.customer_id;"
   ]
  },
  {
   "cell_type": "code",
   "execution_count": 0,
   "metadata": {
    "application/vnd.databricks.v1+cell": {
     "cellMetadata": {
      "byteLimit": 2048000,
      "implicitDf": true,
      "rowLimit": 10000
     },
     "inputWidgets": {},
     "nuid": "dcfcd16d-66d7-4511-90c4-3bebee00c264",
     "showTitle": false,
     "tableResultSettingsMap": {},
     "title": ""
    }
   },
   "outputs": [],
   "source": [
    "%sql\n",
    "-- Unoptimize\n",
    "\n",
    "select\n",
    "c.customer_id, sum(od.price_each * od.quantity) as total_spend\n",
    "from customers c\n",
    "inner join orders o\n",
    "  on c.customer_id = o.customer_id\n",
    "inner join order_details od\n",
    "  on o.order_id = od.order_id\n",
    "where total_amount > 1500\n",
    "group by c.customer_id;"
   ]
  },
  {
   "cell_type": "code",
   "execution_count": 0,
   "metadata": {
    "application/vnd.databricks.v1+cell": {
     "cellMetadata": {
      "byteLimit": 2048000,
      "implicitDf": true,
      "rowLimit": 10000
     },
     "inputWidgets": {},
     "nuid": "803af2bd-bc3b-46f8-be37-54befe0b9353",
     "showTitle": false,
     "tableResultSettingsMap": {},
     "title": ""
    }
   },
   "outputs": [],
   "source": [
    "%sql\n",
    "-- Use Explain query to info about query\n",
    "\n",
    "explain select\n",
    "c.customer_id, sum(od.price_each * od.quantity) as total_spend\n",
    "from customers c\n",
    "inner join orders o\n",
    "  on c.customer_id = o.customer_id\n",
    "inner join order_details od\n",
    "  on o.order_id = od.order_id\n",
    "where total_amount > 1500\n",
    "group by c.customer_id;"
   ]
  },
  {
   "cell_type": "code",
   "execution_count": 0,
   "metadata": {
    "application/vnd.databricks.v1+cell": {
     "cellMetadata": {
      "byteLimit": 2048000,
      "implicitDf": true,
      "rowLimit": 10000
     },
     "inputWidgets": {},
     "nuid": "42c734cc-d92f-43a4-a3d2-6cf334a1276c",
     "showTitle": false,
     "tableResultSettingsMap": {},
     "title": ""
    }
   },
   "outputs": [],
   "source": [
    "%sql\n",
    "-- simple query without using Index\n",
    "-- it will check each rows to filter salary > 100000\n",
    "\n",
    "select * from employees_500 where salary > 100000"
   ]
  },
  {
   "cell_type": "code",
   "execution_count": 0,
   "metadata": {
    "application/vnd.databricks.v1+cell": {
     "cellMetadata": {
      "byteLimit": 2048000,
      "implicitDf": true,
      "rowLimit": 10000
     },
     "inputWidgets": {},
     "nuid": "17062a4d-2337-482c-9d90-7f29d81aaead",
     "showTitle": false,
     "tableResultSettingsMap": {},
     "title": ""
    }
   },
   "outputs": [],
   "source": [
    "%sql\n",
    "-- Create Index on salary column\n",
    "\n",
    "--The command(s): CreateIndex are not supported in Unity Catalog.\n",
    "-- create index idx_salary on employees_500(salary); \n",
    "\n",
    "-- Optimize the table using Z-Ordering on the salary column\n",
    "OPTIMIZE employees_500\n",
    "ZORDER BY (salary);"
   ]
  },
  {
   "cell_type": "code",
   "execution_count": 0,
   "metadata": {
    "application/vnd.databricks.v1+cell": {
     "cellMetadata": {
      "byteLimit": 2048000,
      "implicitDf": true,
      "rowLimit": 10000
     },
     "inputWidgets": {},
     "nuid": "d2e87034-98b0-47a3-aabc-b892d1ec4744",
     "showTitle": false,
     "tableResultSettingsMap": {},
     "title": ""
    }
   },
   "outputs": [],
   "source": [
    "%sql\n",
    "-- now run simple query using Index\n",
    "\n",
    "select * from employees_500 where salary > 100000;"
   ]
  }
 ],
 "metadata": {
  "application/vnd.databricks.v1+notebook": {
   "computePreferences": {
    "hardware": {
     "accelerator": null,
     "gpuPoolId": null,
     "memory": null
    }
   },
   "dashboards": [],
   "environmentMetadata": {
    "base_environment": "",
    "environment_version": "2"
   },
   "inputWidgetPreferences": null,
   "language": "python",
   "notebookMetadata": {
    "mostRecentlyExecutedCommandWithImplicitDF": {
     "commandId": 4845837066402084,
     "dataframes": [
      "_sqldf"
     ]
    },
    "pythonIndentUnit": 4
   },
   "notebookName": "SQL Class_5",
   "widgets": {}
  },
  "language_info": {
   "name": "python"
  }
 },
 "nbformat": 4,
 "nbformat_minor": 0
}
