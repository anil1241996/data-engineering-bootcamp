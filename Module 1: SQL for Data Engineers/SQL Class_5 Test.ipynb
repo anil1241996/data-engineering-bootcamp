{
 "cells": [
  {
   "cell_type": "code",
   "execution_count": 0,
   "metadata": {
    "application/vnd.databricks.v1+cell": {
     "cellMetadata": {
      "byteLimit": 2048000,
      "rowLimit": 10000
     },
     "inputWidgets": {},
     "nuid": "eef66b61-c3b5-4cb3-9cfb-0c4d66a4e317",
     "showTitle": false,
     "tableResultSettingsMap": {},
     "title": ""
    }
   },
   "outputs": [],
   "source": [
    "# using Class_5_employee_sales file, create df then save it in sql table\n",
    "\n",
    "df = spark.read.option('header', 'true')\\\n",
    "                .option('inferSchema', 'true')\\\n",
    "                .option('multiline', 'true')\\\n",
    "                .csv('/Volumes/workspace/default/dbfs/Class_5_employee_sales.csv')\n",
    "\n",
    "df.write.saveAsTable('Class_5_employee_sales')"
   ]
  },
  {
   "cell_type": "code",
   "execution_count": 0,
   "metadata": {
    "application/vnd.databricks.v1+cell": {
     "cellMetadata": {
      "byteLimit": 2048000,
      "implicitDf": true,
      "rowLimit": 10000
     },
     "inputWidgets": {},
     "nuid": "735d77c3-c9fc-4d50-ba8c-27429d6ce1e1",
     "showTitle": false,
     "tableResultSettingsMap": {},
     "title": ""
    }
   },
   "outputs": [],
   "source": [
    "%sql\n",
    "-- show all records of table\n",
    "\n",
    "select * from  class_5_employee_sales"
   ]
  },
  {
   "cell_type": "code",
   "execution_count": 0,
   "metadata": {
    "application/vnd.databricks.v1+cell": {
     "cellMetadata": {
      "byteLimit": 2048000,
      "implicitDf": true,
      "rowLimit": 10000
     },
     "inputWidgets": {},
     "nuid": "cd293a29-431c-4eb8-be6d-2917516c4bcf",
     "showTitle": false,
     "tableResultSettingsMap": {},
     "title": ""
    }
   },
   "outputs": [],
   "source": [
    "%sql\n",
    "-- use a window function to assign a rank of employees by sales_amount within each department\n",
    "\n",
    "select \n",
    "emp_name,\n",
    "dept,\n",
    "sum(sale_amount) as total_sale,\n",
    "row_number() over(partition by dept order by sum(sale_amount) desc) as sales_row_num, -- using row_number\n",
    "rank() over(partition by dept order by sum(sale_amount) desc) as sales_rank, -- using rank\n",
    "dense_rank() over(partition by dept order by sum(sale_amount) desc) as sales_dense_rank -- dense_rank row_number\n",
    "from class_5_employee_sales\n",
    "group by emp_name, dept"
   ]
  },
  {
   "cell_type": "code",
   "execution_count": 0,
   "metadata": {
    "application/vnd.databricks.v1+cell": {
     "cellMetadata": {
      "byteLimit": 2048000,
      "implicitDf": true,
      "rowLimit": 10000
     },
     "inputWidgets": {},
     "nuid": "3698dec4-668f-44f8-ae9a-f5bb3dcc430d",
     "showTitle": false,
     "tableResultSettingsMap": {},
     "title": ""
    }
   },
   "outputs": [],
   "source": [
    "%sql\n",
    "-- use a window function to assign a rank of employees by sales_amount within each department\n",
    "\n",
    "with cte_salary_rank as (\n",
    "  select \n",
    "    emp_name,\n",
    "    dept,\n",
    "    sum(sale_amount) as total_sale\n",
    "  from class_5_employee_sales\n",
    "  group by emp_name, dept\n",
    ")\n",
    "\n",
    "select\n",
    "emp_name, dept, total_sale,\n",
    "row_number() over(partition by dept order by total_sale desc) as sale_row_num\n",
    "from cte_salary_rank"
   ]
  },
  {
   "cell_type": "code",
   "execution_count": 0,
   "metadata": {
    "application/vnd.databricks.v1+cell": {
     "cellMetadata": {
      "byteLimit": 2048000,
      "implicitDf": true,
      "rowLimit": 10000
     },
     "inputWidgets": {},
     "nuid": "89a50ade-ff56-468c-b52c-9f36d8125829",
     "showTitle": false,
     "tableResultSettingsMap": {},
     "title": ""
    }
   },
   "outputs": [],
   "source": [
    "%sql\n",
    "-- Find the running total for each employee\n",
    "\n",
    "select\n",
    "emp_name,\n",
    "sum(sale_amount) over(partition by emp_name order by sale_amount desc) as running_total\n",
    "from class_5_employee_sales"
   ]
  },
  {
   "cell_type": "code",
   "execution_count": 0,
   "metadata": {
    "application/vnd.databricks.v1+cell": {
     "cellMetadata": {
      "byteLimit": 2048000,
      "implicitDf": true,
      "rowLimit": 10000
     },
     "inputWidgets": {},
     "nuid": "2a1e9eb8-22e3-42e7-a9f0-920b5f70a600",
     "showTitle": false,
     "tableResultSettingsMap": {},
     "title": ""
    }
   },
   "outputs": [],
   "source": [
    "%sql\n",
    "-- Optimize query by selecting only necessary columns and applying filters before aggregation.\n",
    "\n",
    "select\n",
    "emp_name,\n",
    "sum(sale_amount) as total_sale\n",
    "from class_5_employee_sales\n",
    "where sale_amount > 5000\n",
    "group by emp_name\n"
   ]
  },
  {
   "cell_type": "code",
   "execution_count": 0,
   "metadata": {
    "application/vnd.databricks.v1+cell": {
     "cellMetadata": {
      "byteLimit": 2048000,
      "implicitDf": true,
      "rowLimit": 10000
     },
     "inputWidgets": {},
     "nuid": "f000934d-4b44-411a-abdc-b70a05866f62",
     "showTitle": false,
     "tableResultSettingsMap": {},
     "title": ""
    }
   },
   "outputs": [],
   "source": [
    "%sql\n",
    "-- Optimize query by selecting only necessary columns and applying filters after aggregation.\n",
    "\n",
    "select\n",
    "emp_name,\n",
    "sum(sale_amount) as total_sale\n",
    "from class_5_employee_sales\n",
    "group by emp_name\n",
    "having sum(sale_amount) > 5000\n"
   ]
  },
  {
   "cell_type": "markdown",
   "metadata": {
    "application/vnd.databricks.v1+cell": {
     "cellMetadata": {
      "byteLimit": 2048000,
      "rowLimit": 10000
     },
     "inputWidgets": {},
     "nuid": "2ebf2d08-b45c-4116-9a1b-62bcfa9e3151",
     "showTitle": false,
     "tableResultSettingsMap": {},
     "title": ""
    }
   },
   "source": [
    "### ## # **_Explain how indexing would help if this table had 10 million rows._**\n",
    "\n",
    "**_**Index ke saath**_**\n",
    "\n",
    "Index ek shortcut map hota hai.\n",
    "\n",
    "Jaise dictionary me words alphabetical order me hote hain, tum seedha us page par jump kar sakte ho.\n",
    "\n",
    "Database index bhi waise hi hota hai — column ke values sorted + pointer ke saath store hoti hain.\n",
    "\n",
    "Query ko sirf relevant rows milti hain, baaki skip ho jati hain.\n",
    "\n",
    "_**Is table me kaise help karega?**_\n",
    "\n",
    "Maan lo tum ye query chalate ho:\n",
    "\n",
    "SELECT emp_name, dept, SUM(sale_amount)\n",
    "FROM class_5_employee_sales\n",
    "WHERE dept = 'Sales'\n",
    "GROUP BY emp_name, dept;\n",
    "Agar tum dept column par index bana do:\n",
    "\n",
    "CREATE INDEX idx_dept ON class_5_employee_sales(dept);\n",
    "🔹 Database sidha index check karega “Sales” dept ke entries ka address, table me sirf wahi rows uthayega.\n",
    "Result: Query speed 10x-100x faster.\n",
    "\n",
    "**_**Extra Boost for Rankings**_**\n",
    "\n",
    "Agar tum ranking ka query run karte ho:\n",
    "\n",
    "SELECT emp_name, dept, total_sale,\n",
    "       RANK() OVER (PARTITION BY dept ORDER BY total_sale DESC)\n",
    "FROM sales_summary;\n",
    "dept par index → Partition fast ho jata hai.\n",
    "\n",
    "dept + total_sale composite index → Partition + sorting dono fast ho jati hain.\n",
    "\n",
    "Bina index ke 1 crore rows me sort + filter karna matlab “entire ocean me machhli dhoondhna”,\n",
    "Index ke saath matlab “seedha us pond me jaana jaha wo machhli hai.”"
   ]
  },
  {
   "cell_type": "code",
   "execution_count": 0,
   "metadata": {
    "application/vnd.databricks.v1+cell": {
     "cellMetadata": {},
     "inputWidgets": {},
     "nuid": "f5cd1e01-fc0d-4aa9-a8a5-f7bd15d42245",
     "showTitle": false,
     "tableResultSettingsMap": {},
     "title": ""
    }
   },
   "outputs": [],
   "source": []
  }
 ],
 "metadata": {
  "application/vnd.databricks.v1+notebook": {
   "computePreferences": null,
   "dashboards": [],
   "environmentMetadata": {
    "base_environment": "",
    "environment_version": "2"
   },
   "inputWidgetPreferences": null,
   "language": "python",
   "notebookMetadata": {
    "mostRecentlyExecutedCommandWithImplicitDF": {
     "commandId": 4845837066402105,
     "dataframes": [
      "_sqldf"
     ]
    },
    "pythonIndentUnit": 4
   },
   "notebookName": "SQL Class_5 Test",
   "widgets": {}
  },
  "language_info": {
   "name": "python"
  }
 },
 "nbformat": 4,
 "nbformat_minor": 0
}
