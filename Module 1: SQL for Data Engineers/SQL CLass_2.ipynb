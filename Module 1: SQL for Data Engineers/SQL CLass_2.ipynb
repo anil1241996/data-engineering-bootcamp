{
 "cells": [
  {
   "cell_type": "code",
   "execution_count": 0,
   "metadata": {
    "application/vnd.databricks.v1+cell": {
     "cellMetadata": {
      "byteLimit": 2048000,
      "implicitDf": true,
      "rowLimit": 10000
     },
     "inputWidgets": {},
     "nuid": "9bf358ed-346e-4f08-8b31-de8b10fd3e6f",
     "showTitle": false,
     "tableResultSettingsMap": {},
     "title": ""
    }
   },
   "outputs": [],
   "source": [
    "%sql\n",
    "--create customers table\n",
    "\n",
    "CREATE TABLE customers (\n",
    "    customer_id INT ,\n",
    "    first_name VARCHAR(50),\n",
    "    last_name VARCHAR(50),\n",
    "    city VARCHAR(50),\n",
    "    email VARCHAR(100)\n",
    ");"
   ]
  },
  {
   "cell_type": "code",
   "execution_count": 0,
   "metadata": {
    "application/vnd.databricks.v1+cell": {
     "cellMetadata": {
      "byteLimit": 2048000,
      "implicitDf": true,
      "rowLimit": 10000
     },
     "inputWidgets": {},
     "nuid": "b5a4cd48-283b-4698-816b-6aaba80a1d26",
     "showTitle": false,
     "tableResultSettingsMap": {},
     "title": ""
    }
   },
   "outputs": [],
   "source": [
    "%sql\n",
    "-- create orders table\n",
    "\n",
    "CREATE TABLE orders (\n",
    "    order_id INT ,\n",
    "    customer_id INT,\n",
    "    order_date DATE,\n",
    "    total_amount DECIMAL(10, 2)\n",
    ");"
   ]
  },
  {
   "cell_type": "code",
   "execution_count": 0,
   "metadata": {
    "application/vnd.databricks.v1+cell": {
     "cellMetadata": {
      "byteLimit": 2048000,
      "implicitDf": true,
      "rowLimit": 10000
     },
     "inputWidgets": {},
     "nuid": "ccb27669-48aa-4e04-b347-d1a4ce268a33",
     "showTitle": false,
     "tableResultSettingsMap": {},
     "title": ""
    }
   },
   "outputs": [],
   "source": [
    "%sql\n",
    "-- create order_details table\n",
    "\n",
    "CREATE TABLE order_details (\n",
    "    order_detail_id INT ,\n",
    "    order_id INT,\n",
    "    customer_id INT,\n",
    "    product_id INT,\n",
    "    product_name VARCHAR(100),\n",
    "    category VARCHAR(50),\n",
    "    quantity INT,\n",
    "    price_each DECIMAL(10,2),\n",
    "    order_date DATE\n",
    ");"
   ]
  },
  {
   "cell_type": "code",
   "execution_count": 0,
   "metadata": {
    "application/vnd.databricks.v1+cell": {
     "cellMetadata": {
      "byteLimit": 2048000,
      "implicitDf": true,
      "rowLimit": 10000
     },
     "inputWidgets": {},
     "nuid": "f4f3afcc-30ec-4beb-82d8-39ec6a1a290d",
     "showTitle": false,
     "tableResultSettingsMap": {},
     "title": ""
    }
   },
   "outputs": [],
   "source": [
    "%sql\n",
    "-- insert records in customers table\n",
    "\n",
    "INSERT INTO customers VALUES\n",
    "(1, 'John', 'Doe', 'Delhi', 'john.doe@example.com'),\n",
    "(2, 'Jane', 'Smith', 'Mumbai', 'jane.smith@example.com'),\n",
    "(3, 'Raj', 'Kumar', 'Bangalore', 'raj.kumar@example.com'),\n",
    "(4, 'Priya', 'Sharma', 'Hyderabad', 'priya.sharma@example.com'),\n",
    "(5, 'Tom', 'Brown', 'Pune', 'tom.brown@example.com'),\n",
    "(6, 'Sara', 'Ali', 'Chennai', 'sara.ali@example.com'),\n",
    "(7, 'Vikram', 'Singh', 'Delhi', 'vikram.singh@example.com'),\n",
    "(8, 'Neha', 'Patel', 'Mumbai', 'neha.patel@example.com'),\n",
    "(9, 'David', 'Lee', 'Kolkata', 'david.lee@example.com'),\n",
    "(10, 'Amit', 'Verma', 'Jaipur', 'amit.verma@example.com'),\n",
    "(11, 'Emily', 'Clark', 'Delhi', 'emily.clark@example.com'),\n",
    "(12, 'Ananya', 'Roy', 'Mumbai', 'ananya.roy@example.com'),\n",
    "(13, 'Sam', 'Wilson', 'Pune', 'sam.wilson@example.com'),\n",
    "(14, 'Pooja', 'Das', 'Hyderabad', 'pooja.das@example.com'),\n",
    "(15, 'Arjun', 'Nair', 'Chennai', 'arjun.nair@example.com'),\n",
    "(16, 'Kavita', 'Gupta', 'Bangalore', 'kavita.gupta@example.com'),\n",
    "(17, 'Robert', 'King', 'Delhi', 'robert.king@example.com'),\n",
    "(18, 'Meera', 'Joshi', 'Mumbai', 'meera.joshi@example.com'),\n",
    "(19, 'Michael', 'Scott', 'Kolkata', 'michael.scott@example.com'),\n",
    "(20, 'Ravi', 'Menon', 'Pune', 'ravi.menon@example.com'),\n",
    "(21, 'Tina', 'Fernandez', 'Delhi', 'tina.fernandez@example.com'),\n",
    "(22, 'Arvind', 'Singh', 'Hyderabad', 'arvind.singh@example.com'),\n",
    "(23, 'Lucy', 'Adams', 'Chennai', 'lucy.adams@example.com'),\n",
    "(24, 'Karan', 'Malhotra', 'Mumbai', 'karan.malhotra@example.com'),\n",
    "(25, 'Sneha', 'Reddy', 'Pune', 'sneha.reddy@example.com'),\n",
    "(26, 'George', 'Mason', 'Bangalore', 'george.mason@example.com'),\n",
    "(27, 'Vishal', 'Kapoor', 'Kolkata', 'vishal.kapoor@example.com'),\n",
    "(28, 'Emma', 'Watson', 'Delhi', 'emma.watson@example.com'),\n",
    "(29, 'Siddharth', 'Jain', 'Hyderabad', 'siddharth.jain@example.com'),\n",
    "(30, 'Olivia', 'Brown', 'Chennai', 'olivia.brown@example.com'),\n",
    "(31, 'Nikhil', 'Arora', 'Mumbai', 'nikhil.arora@example.com'),\n",
    "(32, 'Ayesha', 'Khan', 'Delhi', 'ayesha.khan@example.com'),\n",
    "(33, 'Chris', 'Evans', 'Bangalore', 'chris.evans@example.com'),\n",
    "(34, 'Ishita', 'Bhatt', 'Kolkata', 'ishita.bhatt@example.com'),\n",
    "(35, 'Shyam', 'Patil', 'Pune', 'shyam.patil@example.com'),\n",
    "(36, 'Sophia', 'Green', 'Chennai', 'sophia.green@example.com'),\n",
    "(37, 'Harsh', 'Aggarwal', 'Hyderabad', 'harsh.aggarwal@example.com'),\n",
    "(38, 'Liam', 'Martin', 'Delhi', 'liam.martin@example.com'),\n",
    "(39, 'Diya', 'Saxena', 'Mumbai', 'diya.saxena@example.com'),\n",
    "(40, 'Jason', 'Taylor', 'Kolkata', 'jason.taylor@example.com'),\n",
    "(41, 'Ritika', 'Mehra', 'Pune', 'ritika.mehra@example.com'),\n",
    "(42, 'Steve', 'Jobs', 'Bangalore', 'steve.jobs@example.com'),\n",
    "(43, 'Alisha', 'Paul', 'Hyderabad', 'alisha.paul@example.com'),\n",
    "(44, 'Dhruv', 'Singhania', 'Chennai', 'dhruv.singhania@example.com'),\n",
    "(45, 'Rebecca', 'Lewis', 'Delhi', 'rebecca.lewis@example.com'),\n",
    "(46, 'Naveen', 'Shetty', 'Mumbai', 'naveen.shetty@example.com'),\n",
    "(47, 'Julia', 'Roberts', 'Pune', 'julia.roberts@example.com'),\n",
    "(48, 'Parth', 'Desai', 'Hyderabad', 'parth.desai@example.com'),\n",
    "(49, 'Nina', 'Shah', 'Chennai', 'nina.shah@example.com'),\n",
    "(50, 'Aria', 'Gill', 'Bangalore', 'aria.gill@example.com');\n"
   ]
  },
  {
   "cell_type": "code",
   "execution_count": 0,
   "metadata": {
    "application/vnd.databricks.v1+cell": {
     "cellMetadata": {
      "byteLimit": 2048000,
      "implicitDf": true,
      "rowLimit": 10000
     },
     "inputWidgets": {},
     "nuid": "e3d2828a-1f1f-436f-9bca-af3e0a41918b",
     "showTitle": false,
     "tableResultSettingsMap": {},
     "title": ""
    }
   },
   "outputs": [],
   "source": [
    "%sql\n",
    "-- insert records to orders table\n",
    "\n",
    "INSERT INTO orders VALUES\n",
    "(1001, 1, '2023-01-10', 1500.00),\n",
    "(1002, 2, '2023-01-11', 2500.00),\n",
    "(1003, 3, '2023-01-15', 500.00),\n",
    "(1004, 1, '2023-02-01', 750.00),\n",
    "(1005, 4, '2023-02-05', 2000.00),\n",
    "(1006, 5, '2023-02-08', 1800.00),\n",
    "(1007, 6, '2023-03-01', 2200.00),\n",
    "(1008, 7, '2023-03-05', 3000.00),\n",
    "(1009, 8, '2023-03-09', 1200.00),\n",
    "(1010, 9, '2023-03-10', 900.00),\n",
    "(1011, 10, '2023-03-12', 1900.00),\n",
    "(1012, 11, '2023-03-15', 1500.00),\n",
    "(1013, 12, '2023-03-18', 2400.00),\n",
    "(1014, 13, '2023-03-20', 600.00),\n",
    "(1015, 14, '2023-03-22', 3000.00),\n",
    "(1016, 15, '2023-03-25', 2800.00),\n",
    "(1017, 16, '2023-03-28', 3200.00),\n",
    "(1018, 17, '2023-03-30', 500.00),\n",
    "(1019, 18, '2023-04-01', 950.00),\n",
    "(1020, 19, '2023-04-03', 1750.00),\n",
    "(1021, 20, '2023-04-05', 2100.00),\n",
    "(1022, 21, '2023-04-08', 1200.00),\n",
    "(1023, 22, '2023-04-10', 1400.00),\n",
    "(1024, 23, '2023-04-12', 800.00),\n",
    "(1025, 24, '2023-04-14', 3300.00),\n",
    "(1026, 25, '2023-04-16', 2400.00),\n",
    "(1027, 26, '2023-04-18', 1800.00),\n",
    "(1028, 27, '2023-04-20', 2000.00),\n",
    "(1029, 28, '2023-04-22', 2200.00),\n",
    "(1030, 29, '2023-04-24', 1950.00),\n",
    "(1031, 30, '2023-04-26', 2600.00),\n",
    "(1032, 31, '2023-04-28', 1550.00),\n",
    "(1033, 32, '2023-05-01', 2700.00),\n",
    "(1034, 33, '2023-05-03', 1000.00),\n",
    "(1035, 34, '2023-05-05', 1900.00),\n",
    "(1036, 35, '2023-05-07', 2100.00),\n",
    "(1037, 36, '2023-05-09', 1100.00),\n",
    "(1038, 37, '2023-05-11', 1250.00),\n",
    "(1039, 38, '2023-05-13', 1850.00),\n",
    "(1040, 39, '2023-05-15', 1400.00),\n",
    "(1041, 40, '2023-05-17', 1750.00),\n",
    "(1042, 41, '2023-05-19', 900.00),\n",
    "(1043, 42, '2023-05-21', 2500.00),\n",
    "(1044, 43, '2023-05-23', 3000.00),\n",
    "(1045, 44, '2023-05-25', 2100.00),\n",
    "(1046, 45, '2023-05-27', 2600.00),\n",
    "(1047, 46, '2023-05-29', 2700.00),\n",
    "(1048, 47, '2023-05-31', 2800.00),\n",
    "(1049, 48, '2023-06-02', 1500.00),\n",
    "(1050, 49, '2023-06-04', 1200.00),\n",
    "(1051, 50, '2023-06-06', 800.00),\n",
    "(1052, 1, '2023-06-08', 2000.00),\n",
    "(1053, 2, '2023-06-10', 2300.00),\n",
    "(1054, 3, '2023-06-12', 1400.00),\n",
    "(1055, 4, '2023-06-14', 1750.00),\n",
    "(1056, 5, '2023-06-16', 2600.00),\n",
    "(1057, 6, '2023-06-18', 2100.00),\n",
    "(1058, 7, '2023-06-20', 900.00),\n",
    "(1059, 8, '2023-06-22', 3000.00),\n",
    "(1060, 9, '2023-06-24', 1200.00),\n",
    "(1061, 10, '2023-06-26', 1850.00),\n",
    "(1062, 11, '2023-06-28', 1750.00),\n",
    "(1063, 12, '2023-06-30', 1600.00),\n",
    "(1064, 13, '2023-07-02', 950.00),\n",
    "(1065, 14, '2023-07-04', 2100.00),\n",
    "(1066, 15, '2023-07-06', 2500.00),\n",
    "(1067, 16, '2023-07-08', 3000.00),\n",
    "(1068, 17, '2023-07-10', 2700.00),\n",
    "(1069, 18, '2023-07-12', 1500.00),\n",
    "(1070, 19, '2023-07-14', 1400.00);"
   ]
  },
  {
   "cell_type": "code",
   "execution_count": 0,
   "metadata": {
    "application/vnd.databricks.v1+cell": {
     "cellMetadata": {
      "byteLimit": 2048000,
      "implicitDf": true,
      "rowLimit": 10000
     },
     "inputWidgets": {},
     "nuid": "d03580d6-a81f-4c1e-aeb3-cb249975950d",
     "showTitle": false,
     "tableResultSettingsMap": {},
     "title": ""
    }
   },
   "outputs": [],
   "source": [
    "%sql\n",
    "--insert records to order_details table\n",
    "INSERT INTO order_details VALUES\n",
    "(1, 1001, 1, 201, 'Laptop', 'Electronics', 1, 50000.00, '2023-01-10'),\n",
    "(2, 1001, 1, 203, 'Headphones', 'Accessories', 2, 2000.00, '2023-01-10'),\n",
    "(3, 1002, 2, 202, 'Smartphone', 'Electronics', 1, 30000.00, '2023-01-11'),\n",
    "(4, 1003, 3, 205, 'Water Bottle', 'Kitchen', 3, 500.00, '2023-01-15'),\n",
    "(5, 1004, 1, 208, 'Bluetooth Speaker', 'Electronics', 1, 3500.00, '2023-02-01'),\n",
    "(6, 1005, 4, 204, 'Desk Chair', 'Furniture', 1, 4000.00, '2023-02-05'),\n",
    "(7, 1006, 5, 207, 'Office Desk', 'Furniture', 1, 7000.00, '2023-02-08'),\n",
    "(8, 1007, 6, 211, 'Tablet', 'Electronics', 2, 25000.00, '2023-03-01'),\n",
    "(9, 1008, 7, 215, 'Gaming Chair', 'Furniture', 1, 15000.00, '2023-03-05'),\n",
    "(10, 1009, 8, 209, 'Notebook', 'Stationery', 5, 200.00, '2023-03-09');"
   ]
  },
  {
   "cell_type": "code",
   "execution_count": 0,
   "metadata": {
    "application/vnd.databricks.v1+cell": {
     "cellMetadata": {
      "byteLimit": 2048000,
      "implicitDf": true,
      "rowLimit": 10000
     },
     "inputWidgets": {},
     "nuid": "c977a141-bea6-4ae6-9927-fa0f5cb09ba8",
     "showTitle": false,
     "tableResultSettingsMap": {},
     "title": ""
    }
   },
   "outputs": [],
   "source": [
    "%sql\n",
    "-- list all the customers orders with product details\n",
    "--inner join\n",
    "\n",
    "select\n",
    "c.customer_id, c.first_name, c.last_name, o.order_id, o.product_name, o.quantity\n",
    "from customers c\n",
    "inner join order_details o\n",
    "on c.customer_id = o.customer_id  \n",
    "order by customer_id asc"
   ]
  },
  {
   "cell_type": "code",
   "execution_count": 0,
   "metadata": {
    "application/vnd.databricks.v1+cell": {
     "cellMetadata": {
      "byteLimit": 2048000,
      "implicitDf": true,
      "rowLimit": 10000
     },
     "inputWidgets": {},
     "nuid": "d12d0289-663b-4383-8aa3-d192cd75fe2c",
     "showTitle": false,
     "tableResultSettingsMap": {},
     "title": ""
    }
   },
   "outputs": [],
   "source": [
    "%sql\n",
    "-- Full Breakdown - customers, orders, order_details - combine all 3 tables on basis of customer_id and order_id\n",
    "-- inner join\n",
    "\n",
    "select \n",
    "c.customer_id, c.first_name, o.order_id, o.order_date, o.total_amount, od.product_name, od.category, od.quantity, od.order_date\n",
    "from\n",
    "order_details od\n",
    "inner join orders o\n",
    "on od.order_id = o.order_id\n",
    "\n",
    "inner join customers c\n",
    "on o.customer_id = c.customer_id"
   ]
  },
  {
   "cell_type": "code",
   "execution_count": 0,
   "metadata": {
    "application/vnd.databricks.v1+cell": {
     "cellMetadata": {
      "byteLimit": 2048000,
      "implicitDf": true,
      "rowLimit": 10000
     },
     "inputWidgets": {},
     "nuid": "7669c1e6-bf11-4cce-b4f7-0ae410086ff4",
     "showTitle": false,
     "tableResultSettingsMap": {},
     "title": ""
    }
   },
   "outputs": [],
   "source": [
    "%sql\n",
    "-- show active customers\n",
    "\n",
    "select\n",
    "c.first_name, c.last_name, o.order_id, o.order_date\n",
    "from customers c\n",
    "left join orders o\n",
    "on c.customer_id = o.customer_id\n",
    "order by c.first_name asc"
   ]
  },
  {
   "cell_type": "code",
   "execution_count": 0,
   "metadata": {
    "application/vnd.databricks.v1+cell": {
     "cellMetadata": {
      "byteLimit": 2048000,
      "implicitDf": true,
      "rowLimit": 10000
     },
     "inputWidgets": {},
     "nuid": "03c00eb6-c1a8-49a2-a582-92ee2d35c591",
     "showTitle": false,
     "tableResultSettingsMap": {},
     "title": ""
    }
   },
   "outputs": [],
   "source": [
    "%sql\n",
    "-- show inactive customers\n",
    "\n",
    "select\n",
    "c.first_name, c.last_name, o.order_id, o.order_date\n",
    "from customers c\n",
    "left join orders o\n",
    "on c.customer_id = o.customer_id\n",
    "where o.order_id is null"
   ]
  },
  {
   "cell_type": "code",
   "execution_count": 0,
   "metadata": {
    "application/vnd.databricks.v1+cell": {
     "cellMetadata": {
      "byteLimit": 2048000,
      "implicitDf": true,
      "rowLimit": 10000
     },
     "inputWidgets": {},
     "nuid": "c33a2d1d-2a6b-4163-a864-0eb54ac8d4c2",
     "showTitle": false,
     "tableResultSettingsMap": {},
     "title": ""
    }
   },
   "outputs": [],
   "source": [
    "%sql\n",
    "-- create emp table\n",
    "\n",
    "CREATE TABLE emp (\n",
    "    emp_id INT ,\n",
    "    first_name VARCHAR(50),\n",
    "    last_name VARCHAR(50),\n",
    "    manager_id INT,\n",
    "    department VARCHAR(50)\n",
    ");"
   ]
  },
  {
   "cell_type": "code",
   "execution_count": 0,
   "metadata": {
    "application/vnd.databricks.v1+cell": {
     "cellMetadata": {
      "byteLimit": 2048000,
      "implicitDf": true,
      "rowLimit": 10000
     },
     "inputWidgets": {},
     "nuid": "99852eb1-7939-4d02-acd6-8019455f538b",
     "showTitle": false,
     "tableResultSettingsMap": {},
     "title": ""
    }
   },
   "outputs": [],
   "source": [
    "%sql\n",
    "-- insert records into emp table\n",
    "\n",
    "INSERT INTO emp VALUES\n",
    "(1, 'Alice', 'Johnson', NULL, 'Management'),\n",
    "(2, 'Bob', 'Smith', 1, 'Sales'),\n",
    "(3, 'Carol', 'Taylor', 1, 'Sales'),\n",
    "(4, 'David', 'Brown', 2, 'Sales'),\n",
    "(5, 'Eva', 'Davis', 2, 'Sales'),\n",
    "(6, 'Frank', 'Miller', 1, 'Engineering'),\n",
    "(7, 'Grace', 'Wilson', 6, 'Engineering'),\n",
    "(8, 'Henry', 'Moore', 6, 'Engineering'),\n",
    "(9, 'Ivy', 'Clark', 3, 'Sales'),\n",
    "(10, 'Jack', 'Hall', 3, 'Sales');"
   ]
  },
  {
   "cell_type": "code",
   "execution_count": 0,
   "metadata": {
    "application/vnd.databricks.v1+cell": {
     "cellMetadata": {},
     "inputWidgets": {},
     "nuid": "827deb62-d51e-4925-9fee-f036c12ad819",
     "showTitle": false,
     "tableResultSettingsMap": {},
     "title": ""
    }
   },
   "outputs": [],
   "source": []
  },
  {
   "cell_type": "code",
   "execution_count": 0,
   "metadata": {
    "application/vnd.databricks.v1+cell": {
     "cellMetadata": {
      "byteLimit": 2048000,
      "implicitDf": true,
      "rowLimit": 10000
     },
     "inputWidgets": {},
     "nuid": "db311081-b127-4d88-9c39-d617cc5ba008",
     "showTitle": false,
     "tableResultSettingsMap": {},
     "title": ""
    }
   },
   "outputs": [],
   "source": [
    "%sql\n",
    "-- self join where finding manager again employee name\n",
    "\n",
    "select \n",
    "e1.first_name as emp_name, e2.first_name as manager_name, e1.department \n",
    "from emp e1\n",
    "left join emp e2\n",
    "on e1.manager_id = e2.emp_id\n",
    "order by e1.emp_id asc"
   ]
  },
  {
   "cell_type": "code",
   "execution_count": 0,
   "metadata": {
    "application/vnd.databricks.v1+cell": {
     "cellMetadata": {
      "byteLimit": 2048000,
      "implicitDf": true,
      "rowLimit": 10000
     },
     "inputWidgets": {},
     "nuid": "1eabfe01-8176-4545-b6a5-facf39b3e09e",
     "showTitle": false,
     "tableResultSettingsMap": {},
     "title": ""
    }
   },
   "outputs": [],
   "source": [
    "%sql\n",
    "-- find direct reporting manager counts\n",
    "\n",
    "select \n",
    "e2.first_name as manager_name, count(e1.first_name) as team_size \n",
    "from emp e1\n",
    "left join emp e2\n",
    "on e1.manager_id = e2.emp_id\n",
    "group by e2.first_name\n",
    "having team_size > 0 and e2.first_name is not null\n",
    "order by team_size desc"
   ]
  },
  {
   "cell_type": "code",
   "execution_count": 0,
   "metadata": {
    "application/vnd.databricks.v1+cell": {
     "cellMetadata": {},
     "inputWidgets": {},
     "nuid": "058e7cb9-6a3f-4f42-aba6-48111c2605af",
     "showTitle": false,
     "tableResultSettingsMap": {},
     "title": ""
    }
   },
   "outputs": [],
   "source": [
    "%sql\n",
    "-- full outer join combine all data whether matching or not\n",
    "\n"
   ]
  }
 ],
 "metadata": {
  "application/vnd.databricks.v1+notebook": {
   "computePreferences": {
    "hardware": {
     "accelerator": null,
     "gpuPoolId": null,
     "memory": null
    }
   },
   "dashboards": [],
   "environmentMetadata": {
    "base_environment": "",
    "environment_version": "2"
   },
   "inputWidgetPreferences": null,
   "language": "python",
   "notebookMetadata": {
    "mostRecentlyExecutedCommandWithImplicitDF": {
     "commandId": 8129796449360064,
     "dataframes": [
      "_sqldf"
     ]
    },
    "pythonIndentUnit": 4
   },
   "notebookName": "SQL CLass_2",
   "widgets": {}
  },
  "language_info": {
   "name": "python"
  }
 },
 "nbformat": 4,
 "nbformat_minor": 0
}
