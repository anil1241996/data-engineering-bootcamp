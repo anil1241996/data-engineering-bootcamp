{
 "cells": [
  {
   "cell_type": "code",
   "execution_count": 0,
   "metadata": {
    "application/vnd.databricks.v1+cell": {
     "cellMetadata": {
      "byteLimit": 2048000,
      "implicitDf": true,
      "rowLimit": 10000
     },
     "inputWidgets": {},
     "nuid": "e8e89805-7219-4816-9381-951b5c116e2a",
     "showTitle": false,
     "tableResultSettingsMap": {},
     "title": ""
    }
   },
   "outputs": [],
   "source": [
    "%sql\n",
    "-- Find orders whom placed orders above the average order amount\n",
    "-- using sub query\n",
    "\n",
    "select * from orders where total_amount > \n",
    "(\n",
    "  select avg(total_amount) from orders \n",
    ")\n",
    "order by total_amount asc"
   ]
  },
  {
   "cell_type": "code",
   "execution_count": 0,
   "metadata": {
    "application/vnd.databricks.v1+cell": {
     "cellMetadata": {
      "byteLimit": 2048000,
      "implicitDf": true,
      "rowLimit": 10000
     },
     "inputWidgets": {},
     "nuid": "5817f1eb-cc28-4258-87a2-e0ca6ca62058",
     "showTitle": false,
     "tableResultSettingsMap": {},
     "title": ""
    }
   },
   "outputs": [],
   "source": [
    "%sql\n",
    "-- Find customers whom placed orders above the average order amount\n",
    "-- using cte\n",
    "\n",
    "with avg_total_amount as (\n",
    "  select avg(total_amount) as avg_amount  from orders\n",
    ")\n",
    "\n",
    "select * from orders where total_amount > \n",
    "(select avg_amount from avg_total_amount) \n",
    "order by total_amount asc"
   ]
  },
  {
   "cell_type": "code",
   "execution_count": 0,
   "metadata": {
    "application/vnd.databricks.v1+cell": {
     "cellMetadata": {
      "byteLimit": 2048000,
      "implicitDf": true,
      "rowLimit": 10000
     },
     "inputWidgets": {},
     "nuid": "be945478-ef7c-45e2-a1fb-e024c6aeb876",
     "showTitle": false,
     "tableResultSettingsMap": {},
     "title": ""
    }
   },
   "outputs": [],
   "source": [
    "%sql\n",
    "-- Find Customers whom placed orders above the average order amount\n",
    "-- using join and sub query\n",
    "\n",
    "select c.first_name, c.city, o.order_date, o.total_amount  \n",
    "from customers c\n",
    "inner join orders o\n",
    "ON c.customer_id = o.customer_id\n",
    "where o.total_amount > \n",
    "(select avg(total_amount) from orders)\n",
    "order by o.total_amount asc"
   ]
  },
  {
   "cell_type": "code",
   "execution_count": 0,
   "metadata": {
    "application/vnd.databricks.v1+cell": {
     "cellMetadata": {
      "byteLimit": 2048000,
      "implicitDf": true,
      "rowLimit": 10000
     },
     "inputWidgets": {},
     "nuid": "59a3a464-6960-41e1-99ef-acd748f89c78",
     "showTitle": false,
     "tableResultSettingsMap": {},
     "title": ""
    }
   },
   "outputs": [],
   "source": [
    "%sql\n",
    "-- list all the products that have been sold more than 2 times in total\n",
    "\n",
    "select od.category as Category_Name, count(od.category) as Category_Count\n",
    "from order_details od\n",
    "group by od.category\n",
    "having count(od.category) > 2\n",
    "order by od.category asc"
   ]
  },
  {
   "cell_type": "code",
   "execution_count": 0,
   "metadata": {
    "application/vnd.databricks.v1+cell": {
     "cellMetadata": {
      "byteLimit": 2048000,
      "implicitDf": true,
      "rowLimit": 10000
     },
     "inputWidgets": {},
     "nuid": "ca436506-f396-477f-88ab-342ace0d69b4",
     "showTitle": false,
     "tableResultSettingsMap": {},
     "title": ""
    }
   },
   "outputs": [],
   "source": [
    "%sql\n",
    "-- list customers and their total quantity of the products ordered\n",
    "-- using join and cte\n",
    "\n",
    "with customer_orders as \n",
    "(\n",
    "select c.customer_id, c.first_name, sum(od.quantity) as total_quantity \n",
    "from customers c\n",
    "inner join orders o\n",
    "  ON c.customer_id = o.customer_id\n",
    "inner join order_details od\n",
    "  ON o.order_id = od.order_id\n",
    "group by c.customer_id, c.first_name\n",
    "having total_quantity > 3\n",
    "order by c.customer_id asc\n",
    ")\n",
    "select * from customer_orders --where total_quantity > 3"
   ]
  },
  {
   "cell_type": "code",
   "execution_count": 0,
   "metadata": {
    "application/vnd.databricks.v1+cell": {
     "cellMetadata": {
      "byteLimit": 2048000,
      "implicitDf": true,
      "rowLimit": 10000
     },
     "inputWidgets": {},
     "nuid": "d6180104-b615-4581-bc8d-ff5c0fac4a21",
     "showTitle": false,
     "tableResultSettingsMap": {},
     "title": ""
    }
   },
   "outputs": [],
   "source": [
    "%sql\n",
    "-- find products with their total sales revenue (price * quantity)\n",
    "with total_sales as (\n",
    "select od.category, sum(od.quantity * od.price_each) as total_sales\n",
    "from order_details od\n",
    "group by od.category\n",
    "order by total_sales asc\n",
    ")\n",
    "select * from total_sales where total_sales > 2000"
   ]
  },
  {
   "cell_type": "markdown",
   "metadata": {
    "application/vnd.databricks.v1+cell": {
     "cellMetadata": {},
     "inputWidgets": {},
     "nuid": "2324cccb-2a4e-4471-80e0-64efe6e8adf6",
     "showTitle": false,
     "tableResultSettingsMap": {},
     "title": ""
    }
   },
   "source": [
    "**_CASE STATEMENT (SQL- IF/ELSE)_**"
   ]
  },
  {
   "cell_type": "code",
   "execution_count": 0,
   "metadata": {
    "application/vnd.databricks.v1+cell": {
     "cellMetadata": {
      "byteLimit": 2048000,
      "implicitDf": true,
      "rowLimit": 10000
     },
     "inputWidgets": {},
     "nuid": "27582ec0-be47-4a9d-aab7-73a9357dc4a4",
     "showTitle": false,
     "tableResultSettingsMap": {},
     "title": ""
    }
   },
   "outputs": [],
   "source": [
    "%sql\n",
    "--categorize each order as 'small', 'median' and 'large'\n",
    "-- using cte and case statement\n",
    "\n",
    "with order_size_details as \n",
    "(\n",
    "  select o.order_id, o.total_amount,\n",
    "      case\n",
    "        when o.total_amount > 2500 then 'large'\n",
    "        when o.total_amount between 1500 and 2500 then 'median'\n",
    "        else 'small'\n",
    "      end as order_size\n",
    "  from orders o\n",
    "  order by total_amount asc\n",
    ")\n",
    "select * from order_size_details where order_size = 'large'"
   ]
  },
  {
   "cell_type": "code",
   "execution_count": 0,
   "metadata": {
    "application/vnd.databricks.v1+cell": {
     "cellMetadata": {
      "byteLimit": 2048000,
      "implicitDf": true,
      "rowLimit": 10000
     },
     "inputWidgets": {},
     "nuid": "87e5d0b2-7d85-4aaf-a98d-02b0602b16ac",
     "showTitle": false,
     "tableResultSettingsMap": {},
     "title": ""
    }
   },
   "outputs": [],
   "source": [
    "%sql\n",
    "-- Label customers as new or returning based on order count\n",
    "-- using cte and join\n",
    "\n",
    "with customer_type_details (\n",
    "  select c.customer_id, count(o.order_id) as total_orders,\n",
    "      case\n",
    "          when count(o.order_id) = 1 then 'new'\n",
    "          when count(o.order_id) > 1 then 'retruning'\n",
    "          else 'no orders'\n",
    "      end as customer_type\n",
    "  from customers c\n",
    "  left join orders o\n",
    "  on c.customer_id = o.customer_id\n",
    "  group by c.customer_id\n",
    "  order by c.customer_id asc, total_orders asc)\n",
    "\n",
    "select * from customer_type_details where customer_type = 'new'"
   ]
  },
  {
   "cell_type": "markdown",
   "metadata": {
    "application/vnd.databricks.v1+cell": {
     "cellMetadata": {},
     "inputWidgets": {},
     "nuid": "db140615-5432-4b30-999e-d8222f5bb683",
     "showTitle": false,
     "tableResultSettingsMap": {},
     "title": ""
    }
   },
   "source": [
    "**_FUNCTIONS (STRING + DATE)_**"
   ]
  },
  {
   "cell_type": "code",
   "execution_count": 0,
   "metadata": {
    "application/vnd.databricks.v1+cell": {
     "cellMetadata": {
      "byteLimit": 2048000,
      "implicitDf": true,
      "rowLimit": 10000
     },
     "inputWidgets": {},
     "nuid": "baf8d8ef-2826-4b78-ae64-d81cd2f3caf9",
     "showTitle": false,
     "tableResultSettingsMap": {},
     "title": ""
    }
   },
   "outputs": [],
   "source": [
    "%sql\n",
    "select upper(first_name) as FIRST_NAME, upper(last_name) as LAST_NAME, concat(first_name, ' ', last_name) from customers  "
   ]
  },
  {
   "cell_type": "code",
   "execution_count": 0,
   "metadata": {
    "application/vnd.databricks.v1+cell": {
     "cellMetadata": {
      "byteLimit": 2048000,
      "implicitDf": true,
      "rowLimit": 10000
     },
     "inputWidgets": {},
     "nuid": "78e38129-005f-4f01-819e-01ae45b4199c",
     "showTitle": false,
     "tableResultSettingsMap": {},
     "title": ""
    }
   },
   "outputs": [],
   "source": [
    "%sql\n",
    "-- Extract each month from order_date column and group month and sum total_amount\n",
    "\n",
    "with order_by_month as (\n",
    "    select \n",
    "        month(order_date) as Month_Order, \n",
    "        sum(total_amount) as Total_Amount, \n",
    "        count(order_id) as Order_Count\n",
    "    from orders \n",
    "  group by Month_Order\n",
    "  order by Month_Order asc\n",
    ")\n",
    "\n",
    "select * from order_by_month where order_count > 5"
   ]
  },
  {
   "cell_type": "code",
   "execution_count": 0,
   "metadata": {
    "application/vnd.databricks.v1+cell": {
     "cellMetadata": {
      "byteLimit": 2048000,
      "implicitDf": true,
      "rowLimit": 10000
     },
     "inputWidgets": {},
     "nuid": "6147cac7-1c6c-4393-a8b1-7f875c252508",
     "showTitle": false,
     "tableResultSettingsMap": {},
     "title": ""
    }
   },
   "outputs": [],
   "source": [
    "%sql\n",
    "--list each customer's name + their total spend + spending category\n",
    "\n",
    "with categoty_spend (\n",
    "select \n",
    "    concat_ws(' ', c.first_name, c.last_name) as full_name, \n",
    "    od.category, \n",
    "    sum(o.total_amount) as total_spend\n",
    "from customers c\n",
    "inner join orders o\n",
    "    on c.customer_id = o.customer_id\n",
    "inner join order_details od\n",
    "    on o.order_id = od.order_id\n",
    "group by c.first_name, c.last_name, od.category\n",
    "order by full_name)\n",
    "\n",
    "select * from categoty_spend where total_spend > 1500"
   ]
  },
  {
   "cell_type": "code",
   "execution_count": 0,
   "metadata": {
    "application/vnd.databricks.v1+cell": {
     "cellMetadata": {
      "byteLimit": 2048000,
      "implicitDf": true,
      "rowLimit": 10000
     },
     "inputWidgets": {},
     "nuid": "1915905e-06c9-4591-b4dd-2338c7906d77",
     "showTitle": false,
     "tableResultSettingsMap": {},
     "title": ""
    }
   },
   "outputs": [],
   "source": [
    "%sql\n",
    "--list each customer's name + their total spend + spending category\n",
    "\n",
    "with categoty_spend (\n",
    "select \n",
    "    concat_ws(' ', c.first_name, c.last_name) as full_name, \n",
    "    c.customer_id, \n",
    "    sum(od.quantity * od.price_each) as total_spend\n",
    "from customers c\n",
    "inner join orders o\n",
    "    on c.customer_id = o.customer_id\n",
    "inner join order_details od\n",
    "    on o.order_id = od.order_id\n",
    "group by c.customer_id, c.first_name, c.last_name\n",
    "order by full_name)\n",
    "\n",
    "select customer_id, full_name, total_spend,\n",
    "case\n",
    "  when total_spend > 20000 then 'Gold'\n",
    "  when total_spend between 5000 and 20000 then 'Silver'\n",
    "  else 'Bronze'\n",
    "end as customer_tier\n",
    "from categoty_spend;"
   ]
  },
  {
   "cell_type": "markdown",
   "metadata": {
    "application/vnd.databricks.v1+cell": {
     "cellMetadata": {},
     "inputWidgets": {},
     "nuid": "0a5cd88e-c44d-4535-ac2f-d846f374a483",
     "showTitle": false,
     "tableResultSettingsMap": {},
     "title": ""
    }
   },
   "source": [
    "### # 1. String Functions (T-SQL)\n",
    "\n",
    "| Function | Syntax | Description |\n",
    "|----------|--------|-------------|\n",
    "| LOWER() | LOWER(string) | Converts all characters to lowercase. |\n",
    "| UPPER() | UPPER(string) | Converts all characters to uppercase. |\n",
    "| LEN() | LEN(string) | Returns number of characters (excluding trailing spaces). |\n",
    "| LTRIM() | LTRIM(string) | Removes leading spaces. |\n",
    "| RTRIM() | RTRIM(string) | Removes trailing spaces. |\n",
    "| TRIM() | TRIM([characters FROM] string) | Removes leading & trailing spaces or specified characters (SQL Server 2017+). |\n",
    "| SUBSTRING() | SUBSTRING(string, start, length) | Extracts part of a string. |\n",
    "| REPLACE() | REPLACE(string, search, replace) | Replaces all occurrences of a substring. |\n",
    "| CONCAT() | CONCAT(str1, str2, ...) | Joins strings together. |\n",
    "| LEFT() | LEFT(string, n) | Returns leftmost n characters. |\n",
    "| RIGHT() | RIGHT(string, n) | Returns rightmost n characters. |\n",
    "| CHARINDEX() | CHARINDEX(substring, string [, start_location]) | Finds starting position of substring. |\n",
    "| PATINDEX() | PATINDEX('%pattern%', string) | Finds starting position of a pattern (supports wildcards). |\n",
    "| REVERSE() | REVERSE(string) | Reverses the string. |\n",
    "| REPLICATE() | REPLICATE(string, count) | Repeats a string multiple times. |\n",
    "| SPACE() | SPACE(number) | Returns a string of spaces. |\n",
    "| STRING_AGG() | STRING_AGG(column, separator) | Concatenates values from multiple rows with a separator (SQL Server 2017+). |\n",
    "| FORMAT() | FORMAT(value, format [, culture]) | Formats date, number, or string using a format pattern. |\n",
    "### 2. Date & Time Functions (T-SQL)\n",
    "\n",
    "| Function | Syntax | Description |\n",
    "|----------|--------|-------------|\n",
    "| GETDATE() | GETDATE() | Current date and time. |\n",
    "| SYSDATETIME() | SYSDATETIME() | Current date and time with higher precision. |\n",
    "| CURRENT_TIMESTAMP | CURRENT_TIMESTAMP | ANSI equivalent of GETDATE(). |\n",
    "| GETUTCDATE() | GETUTCDATE() | Current UTC date and time. |\n",
    "| DATEADD() | DATEADD(datepart, number, date) | Adds an interval to a date. |\n",
    "| DATEDIFF() | DATEDIFF(datepart, startdate, enddate) | Difference between two dates in specified unit. |\n",
    "| DATENAME() | DATENAME(datepart, date) | Returns the name of a part of a date (e.g., \"Monday\"). |\n",
    "| DATEPART() | DATEPART(datepart, date) | Returns integer value of part of a date (e.g., month number). |\n",
    "| EOMONTH() | EOMONTH(start_date [, month_to_add]) | Last day of month. |\n",
    "| ISDATE() | ISDATE(expression) | Checks if expression is a valid date. |\n",
    "| SWITCHOFFSET() | SWITCHOFFSET(datetimeoffset_value, time_zone_offset) | Changes time zone offset of a datetimeoffset value. |\n",
    "| TODATETIMEOFFSET() | TODATETIMEOFFSET(datetime2_value, time_zone_offset) | Adds time zone offset to a datetime2 value. |\n",
    "| FORMAT() | FORMAT(date, format [, culture]) | Formats date as a string. |\n",
    "### 3. Numeric Functions (T-SQL)\n",
    "\n",
    "| Function | Syntax | Description |\n",
    "|----------|--------|-------------|\n",
    "| ABS() | ABS(number) | Absolute value. |\n",
    "| ROUND() | ROUND(number, decimals [, operation]) | Rounds to given decimals (operation=0 normal, 1 truncates). |\n",
    "| CEILING() | CEILING(number) | Rounds up to nearest integer. |\n",
    "| FLOOR() | FLOOR(number) | Rounds down to nearest integer. |\n",
    "| POWER() | POWER(number, exponent) | Number raised to a power. |\n",
    "| SQRT() | SQRT(number) | Square root. |\n",
    "| RAND() | RAND([seed]) | Random number between 0–1. |\n",
    "| SIGN() | SIGN(number) | -1, 0, or 1 for negative, zero, or positive numbers. |\n",
    "| EXP() | EXP(number) | e raised to the given power. |\n",
    "| LOG() | LOG(number [, base]) | Logarithm (natural or custom base). |\n",
    "| LOG10() | LOG10(number) | Base-10 logarithm. |\n",
    "| PI() | PI() | Returns π value. |\n",
    "| SQUARE() | SQUARE(number) | Returns square of number. |\n",
    "### 4. Aggregate Functions (T-SQL)\n",
    "\n",
    "| Function | Syntax | Description |\n",
    "|----------|--------|-------------|\n",
    "| COUNT() | COUNT(column_or_*) | Row count (non-NULL if column given). |\n",
    "| SUM() | SUM(column) | Total sum. |\n",
    "| AVG() | AVG(column) | Average value. |\n",
    "| MIN() | MIN(column) | Minimum value. |\n",
    "| MAX() | MAX(column) | Maximum value. |\n",
    "| STRING_AGG() | STRING_AGG(column, separator) | Concatenates values from rows (SQL Server 2017+). |\n",
    "| VAR() / VARP() | VAR(column) / VARP(column) | Variance (sample / population). |\n",
    "| STDEV() / STDEVP() | STDEV(column) / STDEVP(column) | Standard deviation (sample / population). |\n",
    "### 5. Conditional Functions (T-SQL)\n",
    "\n",
    "| Function | Syntax | Description |\n",
    "|----------|--------|-------------|\n",
    "| CASE | CASE WHEN condition THEN value ELSE value END | IF-ELSE logic. |\n",
    "| COALESCE() | COALESCE(expr1, expr2, ...) | First non-NULL value. |\n",
    "| NULLIF() | NULLIF(expr1, expr2) | NULL if equal, else expr1. |\n",
    "| IIF() | IIF(condition, value_if_true, value_if_false) | Shorter form of CASE (SQL Server 2012+). |\n"
   ]
  }
 ],
 "metadata": {
  "application/vnd.databricks.v1+notebook": {
   "computePreferences": {
    "hardware": {
     "accelerator": null,
     "gpuPoolId": null,
     "memory": null
    }
   },
   "dashboards": [],
   "environmentMetadata": {
    "base_environment": "",
    "environment_version": "2"
   },
   "inputWidgetPreferences": null,
   "language": "python",
   "notebookMetadata": {
    "mostRecentlyExecutedCommandWithImplicitDF": {
     "commandId": 8615062750589727,
     "dataframes": [
      "_sqldf"
     ]
    },
    "pythonIndentUnit": 4
   },
   "notebookName": "SQL Class_3",
   "widgets": {}
  },
  "language_info": {
   "name": "python"
  }
 },
 "nbformat": 4,
 "nbformat_minor": 0
}
