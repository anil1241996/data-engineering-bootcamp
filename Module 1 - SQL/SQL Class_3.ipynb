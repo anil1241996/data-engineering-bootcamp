{
 "cells": [
  {
   "cell_type": "code",
   "execution_count": 0,
   "metadata": {
    "application/vnd.databricks.v1+cell": {
     "cellMetadata": {
      "byteLimit": 2048000,
      "implicitDf": true,
      "rowLimit": 10000
     },
     "inputWidgets": {},
     "nuid": "e8e89805-7219-4816-9381-951b5c116e2a",
     "showTitle": false,
     "tableResultSettingsMap": {},
     "title": ""
    }
   },
   "outputs": [],
   "source": [
    "%sql\n",
    "-- Find orders whom placed orders above the average order amount\n",
    "-- using sub query\n",
    "\n",
    "select * from orders where total_amount > \n",
    "(\n",
    "  select avg(total_amount) from orders \n",
    ")\n",
    "order by total_amount asc"
   ]
  },
  {
   "cell_type": "code",
   "execution_count": 0,
   "metadata": {
    "application/vnd.databricks.v1+cell": {
     "cellMetadata": {
      "byteLimit": 2048000,
      "implicitDf": true,
      "rowLimit": 10000
     },
     "inputWidgets": {},
     "nuid": "5817f1eb-cc28-4258-87a2-e0ca6ca62058",
     "showTitle": false,
     "tableResultSettingsMap": {},
     "title": ""
    }
   },
   "outputs": [],
   "source": [
    "%sql\n",
    "-- Find customers whom placed orders above the average order amount\n",
    "-- using cte\n",
    "\n",
    "with avg_total_amount as (\n",
    "  select avg(total_amount) as avg_amount  from orders\n",
    ")\n",
    "\n",
    "select * from orders where total_amount > \n",
    "(select avg_amount from avg_total_amount) \n",
    "order by total_amount asc"
   ]
  },
  {
   "cell_type": "code",
   "execution_count": 0,
   "metadata": {
    "application/vnd.databricks.v1+cell": {
     "cellMetadata": {
      "byteLimit": 2048000,
      "implicitDf": true,
      "rowLimit": 10000
     },
     "inputWidgets": {},
     "nuid": "be945478-ef7c-45e2-a1fb-e024c6aeb876",
     "showTitle": false,
     "tableResultSettingsMap": {},
     "title": ""
    }
   },
   "outputs": [],
   "source": [
    "%sql\n",
    "-- Find Customers whom placed orders above the average order amount\n",
    "-- using join and sub query\n",
    "\n",
    "select c.first_name, c.city, o.order_date, o.total_amount  \n",
    "from customers c\n",
    "inner join orders o\n",
    "ON c.customer_id = o.customer_id\n",
    "where o.total_amount > \n",
    "(select avg(total_amount) from orders)\n",
    "order by o.total_amount asc"
   ]
  },
  {
   "cell_type": "code",
   "execution_count": 0,
   "metadata": {
    "application/vnd.databricks.v1+cell": {
     "cellMetadata": {
      "byteLimit": 2048000,
      "implicitDf": true,
      "rowLimit": 10000
     },
     "inputWidgets": {},
     "nuid": "59a3a464-6960-41e1-99ef-acd748f89c78",
     "showTitle": false,
     "tableResultSettingsMap": {},
     "title": ""
    }
   },
   "outputs": [],
   "source": [
    "%sql\n",
    "-- list all the products that have been sold more than 2 times in total\n",
    "\n",
    "select od.category as Category_Name, count(od.category) as Category_Count\n",
    "from order_details od\n",
    "group by od.category\n",
    "having count(od.category) > 2\n",
    "order by od.category asc"
   ]
  },
  {
   "cell_type": "code",
   "execution_count": 0,
   "metadata": {
    "application/vnd.databricks.v1+cell": {
     "cellMetadata": {
      "byteLimit": 2048000,
      "implicitDf": true,
      "rowLimit": 10000
     },
     "inputWidgets": {},
     "nuid": "ca436506-f396-477f-88ab-342ace0d69b4",
     "showTitle": false,
     "tableResultSettingsMap": {},
     "title": ""
    }
   },
   "outputs": [],
   "source": [
    "%sql\n",
    "-- list customers and their total quantity of the products ordered\n",
    "-- using join and cte\n",
    "\n",
    "with customer_orders as \n",
    "(\n",
    "select c.customer_id, c.first_name, sum(od.quantity) as total_quantity \n",
    "from customers c\n",
    "inner join orders o\n",
    "  ON c.customer_id = o.customer_id\n",
    "inner join order_details od\n",
    "  ON o.order_id = od.order_id\n",
    "group by c.customer_id, c.first_name\n",
    "having total_quantity > 3\n",
    "order by c.customer_id asc\n",
    ")\n",
    "select * from customer_orders --where total_quantity > 3"
   ]
  },
  {
   "cell_type": "code",
   "execution_count": 0,
   "metadata": {
    "application/vnd.databricks.v1+cell": {
     "cellMetadata": {
      "byteLimit": 2048000,
      "implicitDf": true,
      "rowLimit": 10000
     },
     "inputWidgets": {},
     "nuid": "d6180104-b615-4581-bc8d-ff5c0fac4a21",
     "showTitle": false,
     "tableResultSettingsMap": {},
     "title": ""
    }
   },
   "outputs": [],
   "source": [
    "%sql\n",
    "-- find products with their total sales revenue (price * quantity)\n",
    "with total_sales as (\n",
    "select od.category, sum(od.quantity * od.price_each) as total_sales\n",
    "from order_details od\n",
    "group by od.category\n",
    "order by total_sales asc\n",
    ")\n",
    "select * from total_sales where total_sales > 2000"
   ]
  }
 ],
 "metadata": {
  "application/vnd.databricks.v1+notebook": {
   "computePreferences": {
    "hardware": {
     "accelerator": null,
     "gpuPoolId": null,
     "memory": null
    }
   },
   "dashboards": [],
   "environmentMetadata": {
    "base_environment": "",
    "environment_version": "2"
   },
   "inputWidgetPreferences": null,
   "language": "python",
   "notebookMetadata": {
    "mostRecentlyExecutedCommandWithImplicitDF": {
     "commandId": 7084735095047910,
     "dataframes": [
      "_sqldf"
     ]
    },
    "pythonIndentUnit": 4
   },
   "notebookName": "SQL Class_3",
   "widgets": {}
  },
  "language_info": {
   "name": "python"
  }
 },
 "nbformat": 4,
 "nbformat_minor": 0
}
